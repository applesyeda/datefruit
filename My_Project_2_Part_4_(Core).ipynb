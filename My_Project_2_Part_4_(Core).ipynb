{
  "nbformat": 4,
  "nbformat_minor": 0,
  "metadata": {
    "colab": {
      "name": "My Project 2- Part 4 (Core).ipynb",
      "provenance": []
    },
    "kernelspec": {
      "name": "python3",
      "display_name": "Python 3"
    },
    "language_info": {
      "name": "python"
    }
  },
  "cells": [
    {
      "cell_type": "code",
      "source": [
        "# Loading data from Google Drive\n",
        "from google.colab import drive\n",
        "drive.mount('/content/drive')"
      ],
      "metadata": {
        "colab": {
          "base_uri": "https://localhost:8080/"
        },
        "id": "c8EJHZOmg5Yq",
        "outputId": "d06f01d0-113d-4e72-a582-a1021fe58ac0"
      },
      "execution_count": null,
      "outputs": [
        {
          "output_type": "stream",
          "name": "stdout",
          "text": [
            "Mounted at /content/drive\n"
          ]
        }
      ]
    },
    {
      "cell_type": "code",
      "source": [
        "# Imports\n",
        "import numpy as np\n",
        "import matplotlib.pyplot as plt\n",
        "import pandas as pd\n",
        "from sklearn.preprocessing import LabelEncoder, StandardScaler\n",
        "from sklearn.model_selection import train_test_split\n",
        "from sklearn.pipeline import make_pipeline\n",
        "from sklearn.neighbors import KNeighborsClassifier\n",
        "from sklearn.decomposition import PCA\n",
        "from sklearn.linear_model import LogisticRegression\n",
        "from sklearn.metrics import classification_report, confusion_matrix, precision_score\n",
        "import seaborn as sns\n",
        "from sklearn.ensemble import RandomForestClassifier\n",
        "\n",
        "#Importing the Classifiers\n",
        "from sklearn.tree import DecisionTreeClassifier\n",
        "from sklearn.dummy import DummyClassifier\n",
        "from sklearn.model_selection import GridSearchCV\n",
        "\n",
        "#import accuracy, precision, recall, classification report, and confusion matrix scoring functions\n",
        "from sklearn.metrics import accuracy_score, precision_score, recall_score, classification_report, confusion_matrix\n",
        "\n",
        "import pandas as pd\n",
        "from sklearn.tree import DecisionTreeClassifier\n",
        "from sklearn.neighbors import KNeighborsClassifier\n",
        "from sklearn.pipeline import make_pipeline\n",
        "from sklearn.preprocessing import StandardScaler\n",
        "from sklearn.datasets import load_iris\n",
        "from sklearn.model_selection import train_test_split, GridSearchCV\n",
        "\n",
        "import pandas as pd\n",
        "from sklearn.tree import DecisionTreeClassifier\n",
        "from sklearn.neighbors import KNeighborsClassifier\n",
        "from sklearn.pipeline import make_pipeline\n",
        "from sklearn.preprocessing import StandardScaler\n",
        "from sklearn.datasets import load_iris\n",
        "from sklearn.model_selection import train_test_split, GridSearchCV"
      ],
      "metadata": {
        "id": "YkvsyJ5WhBYV"
      },
      "execution_count": null,
      "outputs": []
    },
    {
      "cell_type": "code",
      "source": [
        "#Loading the data\n",
        "filename = \"/content/Date_Fruit_Datasets.xlsx\"\n",
        "df= pd.read_excel(filename)\n",
        "df"
      ],
      "metadata": {
        "colab": {
          "base_uri": "https://localhost:8080/",
          "height": 488
        },
        "id": "QOPVtuHwiVaP",
        "outputId": "89bfb1fa-b6b2-4c30-8069-aa1b3813cf1c"
      },
      "execution_count": null,
      "outputs": [
        {
          "output_type": "execute_result",
          "data": {
            "text/plain": [
              "       AREA  PERIMETER  MAJOR_AXIS  MINOR_AXIS  ECCENTRICITY   EQDIASQ  \\\n",
              "0    422163  2378.9080    837.8484    645.6693        0.6373  733.1539   \n",
              "1    338136  2085.1440    723.8198    595.2073        0.5690  656.1464   \n",
              "2    526843  2647.3940    940.7379    715.3638        0.6494  819.0222   \n",
              "3    416063  2351.2100    827.9804    645.2988        0.6266  727.8378   \n",
              "4    347562  2160.3540    763.9877    582.8359        0.6465  665.2291   \n",
              "..      ...        ...         ...         ...           ...       ...   \n",
              "893  255403  1925.3650    691.8453    477.1796        0.7241  570.2536   \n",
              "894  365924  2664.8230    855.4633    551.5447        0.7644  682.5752   \n",
              "895  254330  1926.7360    747.4943    435.6219        0.8126  569.0545   \n",
              "896  238955  1906.2679    716.6485    441.8297        0.7873  551.5859   \n",
              "897  343792  2289.2720    823.8438    534.7757        0.7607  661.6113   \n",
              "\n",
              "     SOLIDITY  CONVEX_AREA  EXTENT  ASPECT_RATIO  ...  KurtosisRR  KurtosisRG  \\\n",
              "0      0.9947       424428  0.7831        1.2976  ...      3.2370      2.9574   \n",
              "1      0.9974       339014  0.7795        1.2161  ...      2.6228      2.6350   \n",
              "2      0.9962       528876  0.7657        1.3150  ...      3.7516      3.8611   \n",
              "3      0.9948       418255  0.7759        1.2831  ...      5.0401      8.6136   \n",
              "4      0.9908       350797  0.7569        1.3108  ...      2.7016      2.9761   \n",
              "..        ...          ...     ...           ...  ...         ...         ...   \n",
              "893    0.9785       261028  0.7269        1.4499  ...      2.2423      2.3704   \n",
              "894    0.9466       386566  0.6695        1.5510  ...      3.4109      3.5805   \n",
              "895    0.9925       256255  0.7240        1.7159  ...      2.2759      2.5090   \n",
              "896    0.9604       248795  0.6954        1.6220  ...      2.6769      2.6874   \n",
              "897    0.9781       351472  0.6941        1.5405  ...      2.5138      3.0369   \n",
              "\n",
              "     KurtosisRB    EntropyRR    EntropyRG    EntropyRB  ALLdaub4RR  \\\n",
              "0        4.2287 -59191263232 -50714214400 -39922372608     58.7255   \n",
              "1        3.1704 -34233065472 -37462601728 -31477794816     50.0259   \n",
              "2        4.7192 -93948354560 -74738221056 -60311207936     65.4772   \n",
              "3        8.2618 -32074307584 -32060925952 -29575010304     43.3900   \n",
              "4        4.4146 -39980974080 -35980042240 -25593278464     52.7743   \n",
              "..          ...          ...          ...          ...         ...   \n",
              "893      2.7202 -25296416768 -19168882688 -18473392128     49.0869   \n",
              "894      3.9910 -31605219328 -21945366528 -19277905920     46.8086   \n",
              "895      2.6951 -22242772992 -19594921984 -17592152064     44.1325   \n",
              "896      2.7991 -26048595968 -21299822592 -19809978368     51.2267   \n",
              "897      3.0865 -31983476736 -20482514944 -21219354624     47.3454   \n",
              "\n",
              "     ALLdaub4RG  ALLdaub4RB  Class  \n",
              "0       54.9554     47.8400  BERHI  \n",
              "1       52.8168     47.8315  BERHI  \n",
              "2       59.2860     51.9378  BERHI  \n",
              "3       44.1259     41.1882  BERHI  \n",
              "4       50.9080     42.6666  BERHI  \n",
              "..          ...         ...    ...  \n",
              "893     43.0422     42.4153  SOGAY  \n",
              "894     39.1046     36.5502  SOGAY  \n",
              "895     40.7986     40.9769  SOGAY  \n",
              "896     45.7162     45.6260  SOGAY  \n",
              "897     38.6966     39.6738  SOGAY  \n",
              "\n",
              "[898 rows x 35 columns]"
            ],
            "text/html": [
              "\n",
              "  <div id=\"df-8368b4c8-0fba-4f8d-9dad-8811b2f111f5\">\n",
              "    <div class=\"colab-df-container\">\n",
              "      <div>\n",
              "<style scoped>\n",
              "    .dataframe tbody tr th:only-of-type {\n",
              "        vertical-align: middle;\n",
              "    }\n",
              "\n",
              "    .dataframe tbody tr th {\n",
              "        vertical-align: top;\n",
              "    }\n",
              "\n",
              "    .dataframe thead th {\n",
              "        text-align: right;\n",
              "    }\n",
              "</style>\n",
              "<table border=\"1\" class=\"dataframe\">\n",
              "  <thead>\n",
              "    <tr style=\"text-align: right;\">\n",
              "      <th></th>\n",
              "      <th>AREA</th>\n",
              "      <th>PERIMETER</th>\n",
              "      <th>MAJOR_AXIS</th>\n",
              "      <th>MINOR_AXIS</th>\n",
              "      <th>ECCENTRICITY</th>\n",
              "      <th>EQDIASQ</th>\n",
              "      <th>SOLIDITY</th>\n",
              "      <th>CONVEX_AREA</th>\n",
              "      <th>EXTENT</th>\n",
              "      <th>ASPECT_RATIO</th>\n",
              "      <th>...</th>\n",
              "      <th>KurtosisRR</th>\n",
              "      <th>KurtosisRG</th>\n",
              "      <th>KurtosisRB</th>\n",
              "      <th>EntropyRR</th>\n",
              "      <th>EntropyRG</th>\n",
              "      <th>EntropyRB</th>\n",
              "      <th>ALLdaub4RR</th>\n",
              "      <th>ALLdaub4RG</th>\n",
              "      <th>ALLdaub4RB</th>\n",
              "      <th>Class</th>\n",
              "    </tr>\n",
              "  </thead>\n",
              "  <tbody>\n",
              "    <tr>\n",
              "      <th>0</th>\n",
              "      <td>422163</td>\n",
              "      <td>2378.9080</td>\n",
              "      <td>837.8484</td>\n",
              "      <td>645.6693</td>\n",
              "      <td>0.6373</td>\n",
              "      <td>733.1539</td>\n",
              "      <td>0.9947</td>\n",
              "      <td>424428</td>\n",
              "      <td>0.7831</td>\n",
              "      <td>1.2976</td>\n",
              "      <td>...</td>\n",
              "      <td>3.2370</td>\n",
              "      <td>2.9574</td>\n",
              "      <td>4.2287</td>\n",
              "      <td>-59191263232</td>\n",
              "      <td>-50714214400</td>\n",
              "      <td>-39922372608</td>\n",
              "      <td>58.7255</td>\n",
              "      <td>54.9554</td>\n",
              "      <td>47.8400</td>\n",
              "      <td>BERHI</td>\n",
              "    </tr>\n",
              "    <tr>\n",
              "      <th>1</th>\n",
              "      <td>338136</td>\n",
              "      <td>2085.1440</td>\n",
              "      <td>723.8198</td>\n",
              "      <td>595.2073</td>\n",
              "      <td>0.5690</td>\n",
              "      <td>656.1464</td>\n",
              "      <td>0.9974</td>\n",
              "      <td>339014</td>\n",
              "      <td>0.7795</td>\n",
              "      <td>1.2161</td>\n",
              "      <td>...</td>\n",
              "      <td>2.6228</td>\n",
              "      <td>2.6350</td>\n",
              "      <td>3.1704</td>\n",
              "      <td>-34233065472</td>\n",
              "      <td>-37462601728</td>\n",
              "      <td>-31477794816</td>\n",
              "      <td>50.0259</td>\n",
              "      <td>52.8168</td>\n",
              "      <td>47.8315</td>\n",
              "      <td>BERHI</td>\n",
              "    </tr>\n",
              "    <tr>\n",
              "      <th>2</th>\n",
              "      <td>526843</td>\n",
              "      <td>2647.3940</td>\n",
              "      <td>940.7379</td>\n",
              "      <td>715.3638</td>\n",
              "      <td>0.6494</td>\n",
              "      <td>819.0222</td>\n",
              "      <td>0.9962</td>\n",
              "      <td>528876</td>\n",
              "      <td>0.7657</td>\n",
              "      <td>1.3150</td>\n",
              "      <td>...</td>\n",
              "      <td>3.7516</td>\n",
              "      <td>3.8611</td>\n",
              "      <td>4.7192</td>\n",
              "      <td>-93948354560</td>\n",
              "      <td>-74738221056</td>\n",
              "      <td>-60311207936</td>\n",
              "      <td>65.4772</td>\n",
              "      <td>59.2860</td>\n",
              "      <td>51.9378</td>\n",
              "      <td>BERHI</td>\n",
              "    </tr>\n",
              "    <tr>\n",
              "      <th>3</th>\n",
              "      <td>416063</td>\n",
              "      <td>2351.2100</td>\n",
              "      <td>827.9804</td>\n",
              "      <td>645.2988</td>\n",
              "      <td>0.6266</td>\n",
              "      <td>727.8378</td>\n",
              "      <td>0.9948</td>\n",
              "      <td>418255</td>\n",
              "      <td>0.7759</td>\n",
              "      <td>1.2831</td>\n",
              "      <td>...</td>\n",
              "      <td>5.0401</td>\n",
              "      <td>8.6136</td>\n",
              "      <td>8.2618</td>\n",
              "      <td>-32074307584</td>\n",
              "      <td>-32060925952</td>\n",
              "      <td>-29575010304</td>\n",
              "      <td>43.3900</td>\n",
              "      <td>44.1259</td>\n",
              "      <td>41.1882</td>\n",
              "      <td>BERHI</td>\n",
              "    </tr>\n",
              "    <tr>\n",
              "      <th>4</th>\n",
              "      <td>347562</td>\n",
              "      <td>2160.3540</td>\n",
              "      <td>763.9877</td>\n",
              "      <td>582.8359</td>\n",
              "      <td>0.6465</td>\n",
              "      <td>665.2291</td>\n",
              "      <td>0.9908</td>\n",
              "      <td>350797</td>\n",
              "      <td>0.7569</td>\n",
              "      <td>1.3108</td>\n",
              "      <td>...</td>\n",
              "      <td>2.7016</td>\n",
              "      <td>2.9761</td>\n",
              "      <td>4.4146</td>\n",
              "      <td>-39980974080</td>\n",
              "      <td>-35980042240</td>\n",
              "      <td>-25593278464</td>\n",
              "      <td>52.7743</td>\n",
              "      <td>50.9080</td>\n",
              "      <td>42.6666</td>\n",
              "      <td>BERHI</td>\n",
              "    </tr>\n",
              "    <tr>\n",
              "      <th>...</th>\n",
              "      <td>...</td>\n",
              "      <td>...</td>\n",
              "      <td>...</td>\n",
              "      <td>...</td>\n",
              "      <td>...</td>\n",
              "      <td>...</td>\n",
              "      <td>...</td>\n",
              "      <td>...</td>\n",
              "      <td>...</td>\n",
              "      <td>...</td>\n",
              "      <td>...</td>\n",
              "      <td>...</td>\n",
              "      <td>...</td>\n",
              "      <td>...</td>\n",
              "      <td>...</td>\n",
              "      <td>...</td>\n",
              "      <td>...</td>\n",
              "      <td>...</td>\n",
              "      <td>...</td>\n",
              "      <td>...</td>\n",
              "      <td>...</td>\n",
              "    </tr>\n",
              "    <tr>\n",
              "      <th>893</th>\n",
              "      <td>255403</td>\n",
              "      <td>1925.3650</td>\n",
              "      <td>691.8453</td>\n",
              "      <td>477.1796</td>\n",
              "      <td>0.7241</td>\n",
              "      <td>570.2536</td>\n",
              "      <td>0.9785</td>\n",
              "      <td>261028</td>\n",
              "      <td>0.7269</td>\n",
              "      <td>1.4499</td>\n",
              "      <td>...</td>\n",
              "      <td>2.2423</td>\n",
              "      <td>2.3704</td>\n",
              "      <td>2.7202</td>\n",
              "      <td>-25296416768</td>\n",
              "      <td>-19168882688</td>\n",
              "      <td>-18473392128</td>\n",
              "      <td>49.0869</td>\n",
              "      <td>43.0422</td>\n",
              "      <td>42.4153</td>\n",
              "      <td>SOGAY</td>\n",
              "    </tr>\n",
              "    <tr>\n",
              "      <th>894</th>\n",
              "      <td>365924</td>\n",
              "      <td>2664.8230</td>\n",
              "      <td>855.4633</td>\n",
              "      <td>551.5447</td>\n",
              "      <td>0.7644</td>\n",
              "      <td>682.5752</td>\n",
              "      <td>0.9466</td>\n",
              "      <td>386566</td>\n",
              "      <td>0.6695</td>\n",
              "      <td>1.5510</td>\n",
              "      <td>...</td>\n",
              "      <td>3.4109</td>\n",
              "      <td>3.5805</td>\n",
              "      <td>3.9910</td>\n",
              "      <td>-31605219328</td>\n",
              "      <td>-21945366528</td>\n",
              "      <td>-19277905920</td>\n",
              "      <td>46.8086</td>\n",
              "      <td>39.1046</td>\n",
              "      <td>36.5502</td>\n",
              "      <td>SOGAY</td>\n",
              "    </tr>\n",
              "    <tr>\n",
              "      <th>895</th>\n",
              "      <td>254330</td>\n",
              "      <td>1926.7360</td>\n",
              "      <td>747.4943</td>\n",
              "      <td>435.6219</td>\n",
              "      <td>0.8126</td>\n",
              "      <td>569.0545</td>\n",
              "      <td>0.9925</td>\n",
              "      <td>256255</td>\n",
              "      <td>0.7240</td>\n",
              "      <td>1.7159</td>\n",
              "      <td>...</td>\n",
              "      <td>2.2759</td>\n",
              "      <td>2.5090</td>\n",
              "      <td>2.6951</td>\n",
              "      <td>-22242772992</td>\n",
              "      <td>-19594921984</td>\n",
              "      <td>-17592152064</td>\n",
              "      <td>44.1325</td>\n",
              "      <td>40.7986</td>\n",
              "      <td>40.9769</td>\n",
              "      <td>SOGAY</td>\n",
              "    </tr>\n",
              "    <tr>\n",
              "      <th>896</th>\n",
              "      <td>238955</td>\n",
              "      <td>1906.2679</td>\n",
              "      <td>716.6485</td>\n",
              "      <td>441.8297</td>\n",
              "      <td>0.7873</td>\n",
              "      <td>551.5859</td>\n",
              "      <td>0.9604</td>\n",
              "      <td>248795</td>\n",
              "      <td>0.6954</td>\n",
              "      <td>1.6220</td>\n",
              "      <td>...</td>\n",
              "      <td>2.6769</td>\n",
              "      <td>2.6874</td>\n",
              "      <td>2.7991</td>\n",
              "      <td>-26048595968</td>\n",
              "      <td>-21299822592</td>\n",
              "      <td>-19809978368</td>\n",
              "      <td>51.2267</td>\n",
              "      <td>45.7162</td>\n",
              "      <td>45.6260</td>\n",
              "      <td>SOGAY</td>\n",
              "    </tr>\n",
              "    <tr>\n",
              "      <th>897</th>\n",
              "      <td>343792</td>\n",
              "      <td>2289.2720</td>\n",
              "      <td>823.8438</td>\n",
              "      <td>534.7757</td>\n",
              "      <td>0.7607</td>\n",
              "      <td>661.6113</td>\n",
              "      <td>0.9781</td>\n",
              "      <td>351472</td>\n",
              "      <td>0.6941</td>\n",
              "      <td>1.5405</td>\n",
              "      <td>...</td>\n",
              "      <td>2.5138</td>\n",
              "      <td>3.0369</td>\n",
              "      <td>3.0865</td>\n",
              "      <td>-31983476736</td>\n",
              "      <td>-20482514944</td>\n",
              "      <td>-21219354624</td>\n",
              "      <td>47.3454</td>\n",
              "      <td>38.6966</td>\n",
              "      <td>39.6738</td>\n",
              "      <td>SOGAY</td>\n",
              "    </tr>\n",
              "  </tbody>\n",
              "</table>\n",
              "<p>898 rows × 35 columns</p>\n",
              "</div>\n",
              "      <button class=\"colab-df-convert\" onclick=\"convertToInteractive('df-8368b4c8-0fba-4f8d-9dad-8811b2f111f5')\"\n",
              "              title=\"Convert this dataframe to an interactive table.\"\n",
              "              style=\"display:none;\">\n",
              "        \n",
              "  <svg xmlns=\"http://www.w3.org/2000/svg\" height=\"24px\"viewBox=\"0 0 24 24\"\n",
              "       width=\"24px\">\n",
              "    <path d=\"M0 0h24v24H0V0z\" fill=\"none\"/>\n",
              "    <path d=\"M18.56 5.44l.94 2.06.94-2.06 2.06-.94-2.06-.94-.94-2.06-.94 2.06-2.06.94zm-11 1L8.5 8.5l.94-2.06 2.06-.94-2.06-.94L8.5 2.5l-.94 2.06-2.06.94zm10 10l.94 2.06.94-2.06 2.06-.94-2.06-.94-.94-2.06-.94 2.06-2.06.94z\"/><path d=\"M17.41 7.96l-1.37-1.37c-.4-.4-.92-.59-1.43-.59-.52 0-1.04.2-1.43.59L10.3 9.45l-7.72 7.72c-.78.78-.78 2.05 0 2.83L4 21.41c.39.39.9.59 1.41.59.51 0 1.02-.2 1.41-.59l7.78-7.78 2.81-2.81c.8-.78.8-2.07 0-2.86zM5.41 20L4 18.59l7.72-7.72 1.47 1.35L5.41 20z\"/>\n",
              "  </svg>\n",
              "      </button>\n",
              "      \n",
              "  <style>\n",
              "    .colab-df-container {\n",
              "      display:flex;\n",
              "      flex-wrap:wrap;\n",
              "      gap: 12px;\n",
              "    }\n",
              "\n",
              "    .colab-df-convert {\n",
              "      background-color: #E8F0FE;\n",
              "      border: none;\n",
              "      border-radius: 50%;\n",
              "      cursor: pointer;\n",
              "      display: none;\n",
              "      fill: #1967D2;\n",
              "      height: 32px;\n",
              "      padding: 0 0 0 0;\n",
              "      width: 32px;\n",
              "    }\n",
              "\n",
              "    .colab-df-convert:hover {\n",
              "      background-color: #E2EBFA;\n",
              "      box-shadow: 0px 1px 2px rgba(60, 64, 67, 0.3), 0px 1px 3px 1px rgba(60, 64, 67, 0.15);\n",
              "      fill: #174EA6;\n",
              "    }\n",
              "\n",
              "    [theme=dark] .colab-df-convert {\n",
              "      background-color: #3B4455;\n",
              "      fill: #D2E3FC;\n",
              "    }\n",
              "\n",
              "    [theme=dark] .colab-df-convert:hover {\n",
              "      background-color: #434B5C;\n",
              "      box-shadow: 0px 1px 3px 1px rgba(0, 0, 0, 0.15);\n",
              "      filter: drop-shadow(0px 1px 2px rgba(0, 0, 0, 0.3));\n",
              "      fill: #FFFFFF;\n",
              "    }\n",
              "  </style>\n",
              "\n",
              "      <script>\n",
              "        const buttonEl =\n",
              "          document.querySelector('#df-8368b4c8-0fba-4f8d-9dad-8811b2f111f5 button.colab-df-convert');\n",
              "        buttonEl.style.display =\n",
              "          google.colab.kernel.accessAllowed ? 'block' : 'none';\n",
              "\n",
              "        async function convertToInteractive(key) {\n",
              "          const element = document.querySelector('#df-8368b4c8-0fba-4f8d-9dad-8811b2f111f5');\n",
              "          const dataTable =\n",
              "            await google.colab.kernel.invokeFunction('convertToInteractive',\n",
              "                                                     [key], {});\n",
              "          if (!dataTable) return;\n",
              "\n",
              "          const docLinkHtml = 'Like what you see? Visit the ' +\n",
              "            '<a target=\"_blank\" href=https://colab.research.google.com/notebooks/data_table.ipynb>data table notebook</a>'\n",
              "            + ' to learn more about interactive tables.';\n",
              "          element.innerHTML = '';\n",
              "          dataTable['output_type'] = 'display_data';\n",
              "          await google.colab.output.renderOutput(dataTable, element);\n",
              "          const docLink = document.createElement('div');\n",
              "          docLink.innerHTML = docLinkHtml;\n",
              "          element.appendChild(docLink);\n",
              "        }\n",
              "      </script>\n",
              "    </div>\n",
              "  </div>\n",
              "  "
            ]
          },
          "metadata": {},
          "execution_count": 4
        }
      ]
    },
    {
      "cell_type": "markdown",
      "source": [
        "There are no unnessary columns or rows to delete. All are also continuous, so I do not hope to take out an outliers as they may be indicative of something else, such as a deformity in the date.\n",
        "\n",
        "Identified and addressed missing values"
      ],
      "metadata": {
        "id": "dYK3c1fAn2dF"
      }
    },
    {
      "cell_type": "code",
      "source": [
        "#Checking for duplicates while counting the rows that it is duplicating from, but no duplicates!\n",
        "df.duplicated(keep=False).sum()"
      ],
      "metadata": {
        "colab": {
          "base_uri": "https://localhost:8080/"
        },
        "id": "9H1z_P2MoAz0",
        "outputId": "fb7ef204-2e63-47c5-a007-29ee3235522f"
      },
      "execution_count": null,
      "outputs": [
        {
          "output_type": "execute_result",
          "data": {
            "text/plain": [
              "0"
            ]
          },
          "metadata": {},
          "execution_count": 5
        }
      ]
    },
    {
      "cell_type": "code",
      "source": [
        "#No missing data!\n",
        "null_vals = df.isna().sum()\n",
        "null_vals"
      ],
      "metadata": {
        "colab": {
          "base_uri": "https://localhost:8080/"
        },
        "id": "e4h986OaoC3P",
        "outputId": "20f09055-c2c7-4948-d86c-71b170eeb2cf"
      },
      "execution_count": null,
      "outputs": [
        {
          "output_type": "execute_result",
          "data": {
            "text/plain": [
              "AREA             0\n",
              "PERIMETER        0\n",
              "MAJOR_AXIS       0\n",
              "MINOR_AXIS       0\n",
              "ECCENTRICITY     0\n",
              "EQDIASQ          0\n",
              "SOLIDITY         0\n",
              "CONVEX_AREA      0\n",
              "EXTENT           0\n",
              "ASPECT_RATIO     0\n",
              "ROUNDNESS        0\n",
              "COMPACTNESS      0\n",
              "SHAPEFACTOR_1    0\n",
              "SHAPEFACTOR_2    0\n",
              "SHAPEFACTOR_3    0\n",
              "SHAPEFACTOR_4    0\n",
              "MeanRR           0\n",
              "MeanRG           0\n",
              "MeanRB           0\n",
              "StdDevRR         0\n",
              "StdDevRG         0\n",
              "StdDevRB         0\n",
              "SkewRR           0\n",
              "SkewRG           0\n",
              "SkewRB           0\n",
              "KurtosisRR       0\n",
              "KurtosisRG       0\n",
              "KurtosisRB       0\n",
              "EntropyRR        0\n",
              "EntropyRG        0\n",
              "EntropyRB        0\n",
              "ALLdaub4RR       0\n",
              "ALLdaub4RG       0\n",
              "ALLdaub4RB       0\n",
              "Class            0\n",
              "dtype: int64"
            ]
          },
          "metadata": {},
          "execution_count": 6
        }
      ]
    },
    {
      "cell_type": "code",
      "source": [
        "df[\"Class\"].value_counts()"
      ],
      "metadata": {
        "colab": {
          "base_uri": "https://localhost:8080/"
        },
        "id": "y17rYEygoGVq",
        "outputId": "4ec596e5-bc8c-4fc0-ec7d-751223814778"
      },
      "execution_count": null,
      "outputs": [
        {
          "output_type": "execute_result",
          "data": {
            "text/plain": [
              "DOKOL     204\n",
              "SAFAVI    199\n",
              "ROTANA    166\n",
              "DEGLET     98\n",
              "SOGAY      94\n",
              "IRAQI      72\n",
              "BERHI      65\n",
              "Name: Class, dtype: int64"
            ]
          },
          "metadata": {},
          "execution_count": 7
        }
      ]
    },
    {
      "cell_type": "code",
      "source": [
        "df.shape"
      ],
      "metadata": {
        "colab": {
          "base_uri": "https://localhost:8080/"
        },
        "id": "SuXuUgobopAT",
        "outputId": "e1eac1dd-e989-4733-b095-d5b5406302aa"
      },
      "execution_count": null,
      "outputs": [
        {
          "output_type": "execute_result",
          "data": {
            "text/plain": [
              "(898, 35)"
            ]
          },
          "metadata": {},
          "execution_count": 8
        }
      ]
    },
    {
      "cell_type": "code",
      "source": [
        "df.dtypes"
      ],
      "metadata": {
        "colab": {
          "base_uri": "https://localhost:8080/"
        },
        "id": "BbskPunafpnY",
        "outputId": "f27890f7-c646-4db4-fe2c-af020e37c316"
      },
      "execution_count": null,
      "outputs": [
        {
          "output_type": "execute_result",
          "data": {
            "text/plain": [
              "AREA               int64\n",
              "PERIMETER        float64\n",
              "MAJOR_AXIS       float64\n",
              "MINOR_AXIS       float64\n",
              "ECCENTRICITY     float64\n",
              "EQDIASQ          float64\n",
              "SOLIDITY         float64\n",
              "CONVEX_AREA        int64\n",
              "EXTENT           float64\n",
              "ASPECT_RATIO     float64\n",
              "ROUNDNESS        float64\n",
              "COMPACTNESS      float64\n",
              "SHAPEFACTOR_1    float64\n",
              "SHAPEFACTOR_2    float64\n",
              "SHAPEFACTOR_3    float64\n",
              "SHAPEFACTOR_4    float64\n",
              "MeanRR           float64\n",
              "MeanRG           float64\n",
              "MeanRB           float64\n",
              "StdDevRR         float64\n",
              "StdDevRG         float64\n",
              "StdDevRB         float64\n",
              "SkewRR           float64\n",
              "SkewRG           float64\n",
              "SkewRB           float64\n",
              "KurtosisRR       float64\n",
              "KurtosisRG       float64\n",
              "KurtosisRB       float64\n",
              "EntropyRR          int64\n",
              "EntropyRG          int64\n",
              "EntropyRB          int64\n",
              "ALLdaub4RR       float64\n",
              "ALLdaub4RG       float64\n",
              "ALLdaub4RB       float64\n",
              "Class             object\n",
              "dtype: object"
            ]
          },
          "metadata": {},
          "execution_count": 9
        }
      ]
    },
    {
      "cell_type": "code",
      "source": [
        "# Save X data\n",
        "X = df.drop(columns = 'Class')\n",
        "# Encode our target\n",
        "y = df['Class']"
      ],
      "metadata": {
        "id": "nKzd1omOA7R6"
      },
      "execution_count": null,
      "outputs": []
    },
    {
      "cell_type": "code",
      "source": [
        "# Train test split\n",
        "X_train, X_test, y_train, y_test = train_test_split(X, y, random_state=42)"
      ],
      "metadata": {
        "id": "E9ujL3r-C4yo"
      },
      "execution_count": null,
      "outputs": []
    },
    {
      "cell_type": "code",
      "source": [
        "y.head()"
      ],
      "metadata": {
        "colab": {
          "base_uri": "https://localhost:8080/"
        },
        "id": "_sT6Geh4BkCn",
        "outputId": "350179ef-b6d6-42ca-aa5d-878ddf893602"
      },
      "execution_count": null,
      "outputs": [
        {
          "output_type": "execute_result",
          "data": {
            "text/plain": [
              "0    BERHI\n",
              "1    BERHI\n",
              "2    BERHI\n",
              "3    BERHI\n",
              "4    BERHI\n",
              "Name: Class, dtype: object"
            ]
          },
          "metadata": {},
          "execution_count": 12
        }
      ]
    },
    {
      "cell_type": "code",
      "source": [
        "X.head()"
      ],
      "metadata": {
        "colab": {
          "base_uri": "https://localhost:8080/",
          "height": 300
        },
        "id": "VtpN0uzHBnAt",
        "outputId": "f6b06293-7279-4d2e-cf7e-05ae015575bd"
      },
      "execution_count": null,
      "outputs": [
        {
          "output_type": "execute_result",
          "data": {
            "text/plain": [
              "     AREA  PERIMETER  MAJOR_AXIS  MINOR_AXIS  ECCENTRICITY   EQDIASQ  \\\n",
              "0  422163   2378.908    837.8484    645.6693        0.6373  733.1539   \n",
              "1  338136   2085.144    723.8198    595.2073        0.5690  656.1464   \n",
              "2  526843   2647.394    940.7379    715.3638        0.6494  819.0222   \n",
              "3  416063   2351.210    827.9804    645.2988        0.6266  727.8378   \n",
              "4  347562   2160.354    763.9877    582.8359        0.6465  665.2291   \n",
              "\n",
              "   SOLIDITY  CONVEX_AREA  EXTENT  ASPECT_RATIO  ...  SkewRB  KurtosisRR  \\\n",
              "0    0.9947       424428  0.7831        1.2976  ...  0.6019      3.2370   \n",
              "1    0.9974       339014  0.7795        1.2161  ...  0.4134      2.6228   \n",
              "2    0.9962       528876  0.7657        1.3150  ...  0.9183      3.7516   \n",
              "3    0.9948       418255  0.7759        1.2831  ...  1.8028      5.0401   \n",
              "4    0.9908       350797  0.7569        1.3108  ...  0.8865      2.7016   \n",
              "\n",
              "   KurtosisRG  KurtosisRB    EntropyRR    EntropyRG    EntropyRB  ALLdaub4RR  \\\n",
              "0      2.9574      4.2287 -59191263232 -50714214400 -39922372608     58.7255   \n",
              "1      2.6350      3.1704 -34233065472 -37462601728 -31477794816     50.0259   \n",
              "2      3.8611      4.7192 -93948354560 -74738221056 -60311207936     65.4772   \n",
              "3      8.6136      8.2618 -32074307584 -32060925952 -29575010304     43.3900   \n",
              "4      2.9761      4.4146 -39980974080 -35980042240 -25593278464     52.7743   \n",
              "\n",
              "   ALLdaub4RG  ALLdaub4RB  \n",
              "0     54.9554     47.8400  \n",
              "1     52.8168     47.8315  \n",
              "2     59.2860     51.9378  \n",
              "3     44.1259     41.1882  \n",
              "4     50.9080     42.6666  \n",
              "\n",
              "[5 rows x 34 columns]"
            ],
            "text/html": [
              "\n",
              "  <div id=\"df-24b3a06f-3b22-49ed-9feb-2df8d6bf1eec\">\n",
              "    <div class=\"colab-df-container\">\n",
              "      <div>\n",
              "<style scoped>\n",
              "    .dataframe tbody tr th:only-of-type {\n",
              "        vertical-align: middle;\n",
              "    }\n",
              "\n",
              "    .dataframe tbody tr th {\n",
              "        vertical-align: top;\n",
              "    }\n",
              "\n",
              "    .dataframe thead th {\n",
              "        text-align: right;\n",
              "    }\n",
              "</style>\n",
              "<table border=\"1\" class=\"dataframe\">\n",
              "  <thead>\n",
              "    <tr style=\"text-align: right;\">\n",
              "      <th></th>\n",
              "      <th>AREA</th>\n",
              "      <th>PERIMETER</th>\n",
              "      <th>MAJOR_AXIS</th>\n",
              "      <th>MINOR_AXIS</th>\n",
              "      <th>ECCENTRICITY</th>\n",
              "      <th>EQDIASQ</th>\n",
              "      <th>SOLIDITY</th>\n",
              "      <th>CONVEX_AREA</th>\n",
              "      <th>EXTENT</th>\n",
              "      <th>ASPECT_RATIO</th>\n",
              "      <th>...</th>\n",
              "      <th>SkewRB</th>\n",
              "      <th>KurtosisRR</th>\n",
              "      <th>KurtosisRG</th>\n",
              "      <th>KurtosisRB</th>\n",
              "      <th>EntropyRR</th>\n",
              "      <th>EntropyRG</th>\n",
              "      <th>EntropyRB</th>\n",
              "      <th>ALLdaub4RR</th>\n",
              "      <th>ALLdaub4RG</th>\n",
              "      <th>ALLdaub4RB</th>\n",
              "    </tr>\n",
              "  </thead>\n",
              "  <tbody>\n",
              "    <tr>\n",
              "      <th>0</th>\n",
              "      <td>422163</td>\n",
              "      <td>2378.908</td>\n",
              "      <td>837.8484</td>\n",
              "      <td>645.6693</td>\n",
              "      <td>0.6373</td>\n",
              "      <td>733.1539</td>\n",
              "      <td>0.9947</td>\n",
              "      <td>424428</td>\n",
              "      <td>0.7831</td>\n",
              "      <td>1.2976</td>\n",
              "      <td>...</td>\n",
              "      <td>0.6019</td>\n",
              "      <td>3.2370</td>\n",
              "      <td>2.9574</td>\n",
              "      <td>4.2287</td>\n",
              "      <td>-59191263232</td>\n",
              "      <td>-50714214400</td>\n",
              "      <td>-39922372608</td>\n",
              "      <td>58.7255</td>\n",
              "      <td>54.9554</td>\n",
              "      <td>47.8400</td>\n",
              "    </tr>\n",
              "    <tr>\n",
              "      <th>1</th>\n",
              "      <td>338136</td>\n",
              "      <td>2085.144</td>\n",
              "      <td>723.8198</td>\n",
              "      <td>595.2073</td>\n",
              "      <td>0.5690</td>\n",
              "      <td>656.1464</td>\n",
              "      <td>0.9974</td>\n",
              "      <td>339014</td>\n",
              "      <td>0.7795</td>\n",
              "      <td>1.2161</td>\n",
              "      <td>...</td>\n",
              "      <td>0.4134</td>\n",
              "      <td>2.6228</td>\n",
              "      <td>2.6350</td>\n",
              "      <td>3.1704</td>\n",
              "      <td>-34233065472</td>\n",
              "      <td>-37462601728</td>\n",
              "      <td>-31477794816</td>\n",
              "      <td>50.0259</td>\n",
              "      <td>52.8168</td>\n",
              "      <td>47.8315</td>\n",
              "    </tr>\n",
              "    <tr>\n",
              "      <th>2</th>\n",
              "      <td>526843</td>\n",
              "      <td>2647.394</td>\n",
              "      <td>940.7379</td>\n",
              "      <td>715.3638</td>\n",
              "      <td>0.6494</td>\n",
              "      <td>819.0222</td>\n",
              "      <td>0.9962</td>\n",
              "      <td>528876</td>\n",
              "      <td>0.7657</td>\n",
              "      <td>1.3150</td>\n",
              "      <td>...</td>\n",
              "      <td>0.9183</td>\n",
              "      <td>3.7516</td>\n",
              "      <td>3.8611</td>\n",
              "      <td>4.7192</td>\n",
              "      <td>-93948354560</td>\n",
              "      <td>-74738221056</td>\n",
              "      <td>-60311207936</td>\n",
              "      <td>65.4772</td>\n",
              "      <td>59.2860</td>\n",
              "      <td>51.9378</td>\n",
              "    </tr>\n",
              "    <tr>\n",
              "      <th>3</th>\n",
              "      <td>416063</td>\n",
              "      <td>2351.210</td>\n",
              "      <td>827.9804</td>\n",
              "      <td>645.2988</td>\n",
              "      <td>0.6266</td>\n",
              "      <td>727.8378</td>\n",
              "      <td>0.9948</td>\n",
              "      <td>418255</td>\n",
              "      <td>0.7759</td>\n",
              "      <td>1.2831</td>\n",
              "      <td>...</td>\n",
              "      <td>1.8028</td>\n",
              "      <td>5.0401</td>\n",
              "      <td>8.6136</td>\n",
              "      <td>8.2618</td>\n",
              "      <td>-32074307584</td>\n",
              "      <td>-32060925952</td>\n",
              "      <td>-29575010304</td>\n",
              "      <td>43.3900</td>\n",
              "      <td>44.1259</td>\n",
              "      <td>41.1882</td>\n",
              "    </tr>\n",
              "    <tr>\n",
              "      <th>4</th>\n",
              "      <td>347562</td>\n",
              "      <td>2160.354</td>\n",
              "      <td>763.9877</td>\n",
              "      <td>582.8359</td>\n",
              "      <td>0.6465</td>\n",
              "      <td>665.2291</td>\n",
              "      <td>0.9908</td>\n",
              "      <td>350797</td>\n",
              "      <td>0.7569</td>\n",
              "      <td>1.3108</td>\n",
              "      <td>...</td>\n",
              "      <td>0.8865</td>\n",
              "      <td>2.7016</td>\n",
              "      <td>2.9761</td>\n",
              "      <td>4.4146</td>\n",
              "      <td>-39980974080</td>\n",
              "      <td>-35980042240</td>\n",
              "      <td>-25593278464</td>\n",
              "      <td>52.7743</td>\n",
              "      <td>50.9080</td>\n",
              "      <td>42.6666</td>\n",
              "    </tr>\n",
              "  </tbody>\n",
              "</table>\n",
              "<p>5 rows × 34 columns</p>\n",
              "</div>\n",
              "      <button class=\"colab-df-convert\" onclick=\"convertToInteractive('df-24b3a06f-3b22-49ed-9feb-2df8d6bf1eec')\"\n",
              "              title=\"Convert this dataframe to an interactive table.\"\n",
              "              style=\"display:none;\">\n",
              "        \n",
              "  <svg xmlns=\"http://www.w3.org/2000/svg\" height=\"24px\"viewBox=\"0 0 24 24\"\n",
              "       width=\"24px\">\n",
              "    <path d=\"M0 0h24v24H0V0z\" fill=\"none\"/>\n",
              "    <path d=\"M18.56 5.44l.94 2.06.94-2.06 2.06-.94-2.06-.94-.94-2.06-.94 2.06-2.06.94zm-11 1L8.5 8.5l.94-2.06 2.06-.94-2.06-.94L8.5 2.5l-.94 2.06-2.06.94zm10 10l.94 2.06.94-2.06 2.06-.94-2.06-.94-.94-2.06-.94 2.06-2.06.94z\"/><path d=\"M17.41 7.96l-1.37-1.37c-.4-.4-.92-.59-1.43-.59-.52 0-1.04.2-1.43.59L10.3 9.45l-7.72 7.72c-.78.78-.78 2.05 0 2.83L4 21.41c.39.39.9.59 1.41.59.51 0 1.02-.2 1.41-.59l7.78-7.78 2.81-2.81c.8-.78.8-2.07 0-2.86zM5.41 20L4 18.59l7.72-7.72 1.47 1.35L5.41 20z\"/>\n",
              "  </svg>\n",
              "      </button>\n",
              "      \n",
              "  <style>\n",
              "    .colab-df-container {\n",
              "      display:flex;\n",
              "      flex-wrap:wrap;\n",
              "      gap: 12px;\n",
              "    }\n",
              "\n",
              "    .colab-df-convert {\n",
              "      background-color: #E8F0FE;\n",
              "      border: none;\n",
              "      border-radius: 50%;\n",
              "      cursor: pointer;\n",
              "      display: none;\n",
              "      fill: #1967D2;\n",
              "      height: 32px;\n",
              "      padding: 0 0 0 0;\n",
              "      width: 32px;\n",
              "    }\n",
              "\n",
              "    .colab-df-convert:hover {\n",
              "      background-color: #E2EBFA;\n",
              "      box-shadow: 0px 1px 2px rgba(60, 64, 67, 0.3), 0px 1px 3px 1px rgba(60, 64, 67, 0.15);\n",
              "      fill: #174EA6;\n",
              "    }\n",
              "\n",
              "    [theme=dark] .colab-df-convert {\n",
              "      background-color: #3B4455;\n",
              "      fill: #D2E3FC;\n",
              "    }\n",
              "\n",
              "    [theme=dark] .colab-df-convert:hover {\n",
              "      background-color: #434B5C;\n",
              "      box-shadow: 0px 1px 3px 1px rgba(0, 0, 0, 0.15);\n",
              "      filter: drop-shadow(0px 1px 2px rgba(0, 0, 0, 0.3));\n",
              "      fill: #FFFFFF;\n",
              "    }\n",
              "  </style>\n",
              "\n",
              "      <script>\n",
              "        const buttonEl =\n",
              "          document.querySelector('#df-24b3a06f-3b22-49ed-9feb-2df8d6bf1eec button.colab-df-convert');\n",
              "        buttonEl.style.display =\n",
              "          google.colab.kernel.accessAllowed ? 'block' : 'none';\n",
              "\n",
              "        async function convertToInteractive(key) {\n",
              "          const element = document.querySelector('#df-24b3a06f-3b22-49ed-9feb-2df8d6bf1eec');\n",
              "          const dataTable =\n",
              "            await google.colab.kernel.invokeFunction('convertToInteractive',\n",
              "                                                     [key], {});\n",
              "          if (!dataTable) return;\n",
              "\n",
              "          const docLinkHtml = 'Like what you see? Visit the ' +\n",
              "            '<a target=\"_blank\" href=https://colab.research.google.com/notebooks/data_table.ipynb>data table notebook</a>'\n",
              "            + ' to learn more about interactive tables.';\n",
              "          element.innerHTML = '';\n",
              "          dataTable['output_type'] = 'display_data';\n",
              "          await google.colab.output.renderOutput(dataTable, element);\n",
              "          const docLink = document.createElement('div');\n",
              "          docLink.innerHTML = docLinkHtml;\n",
              "          element.appendChild(docLink);\n",
              "        }\n",
              "      </script>\n",
              "    </div>\n",
              "  </div>\n",
              "  "
            ]
          },
          "metadata": {},
          "execution_count": 13
        }
      ]
    },
    {
      "cell_type": "code",
      "source": [
        "r_forest = RandomForestClassifier(random_state=42)\n",
        "r_forest.fit(X_train.values, y_train.values)"
      ],
      "metadata": {
        "colab": {
          "base_uri": "https://localhost:8080/"
        },
        "id": "Vh0Azy1bBg1c",
        "outputId": "c6954e2a-2b4d-4912-a235-68d840732460"
      },
      "execution_count": null,
      "outputs": [
        {
          "output_type": "execute_result",
          "data": {
            "text/plain": [
              "RandomForestClassifier(random_state=42)"
            ]
          },
          "metadata": {},
          "execution_count": 14
        }
      ]
    },
    {
      "cell_type": "code",
      "source": [
        "#Predictions on data we haven't seen before\n",
        "y_pred = r_forest.predict(X_test)"
      ],
      "metadata": {
        "colab": {
          "base_uri": "https://localhost:8080/"
        },
        "id": "9h1B4Wk3CTtA",
        "outputId": "443999b5-f47f-4d67-bf35-f85f0dfc9fab"
      },
      "execution_count": null,
      "outputs": [
        {
          "output_type": "stream",
          "name": "stderr",
          "text": [
            "/usr/local/lib/python3.7/dist-packages/sklearn/base.py:444: UserWarning: X has feature names, but RandomForestClassifier was fitted without feature names\n",
            "  f\"X has feature names, but {self.__class__.__name__} was fitted without\"\n"
          ]
        }
      ]
    },
    {
      "cell_type": "code",
      "source": [
        "print(r_forest, classification_report(y_test, y_pred))"
      ],
      "metadata": {
        "colab": {
          "base_uri": "https://localhost:8080/"
        },
        "id": "Lh0T_RMmDuAh",
        "outputId": "6f1f6b2c-4eb2-4038-ea09-34f89437a2e0"
      },
      "execution_count": null,
      "outputs": [
        {
          "output_type": "stream",
          "name": "stdout",
          "text": [
            "RandomForestClassifier(random_state=42)               precision    recall  f1-score   support\n",
            "\n",
            "       BERHI       1.00      0.73      0.85        15\n",
            "      DEGLET       0.68      0.79      0.73        24\n",
            "       DOKOL       1.00      0.92      0.96        60\n",
            "       IRAQI       0.76      1.00      0.87        13\n",
            "      ROTANA       1.00      0.98      0.99        45\n",
            "      SAFAVI       1.00      1.00      1.00        42\n",
            "       SOGAY       0.79      0.85      0.81        26\n",
            "\n",
            "    accuracy                           0.92       225\n",
            "   macro avg       0.89      0.90      0.89       225\n",
            "weighted avg       0.93      0.92      0.92       225\n",
            "\n"
          ]
        }
      ]
    },
    {
      "cell_type": "markdown",
      "source": [
        "The accuracy shows the probability of a random prediction being correct, meaning that there's a 92% chance the classification of a date can be predicted correctly. The F1-score is an important value to look at because it considers both how well we are predicting the correct classication of the date (precision) and recall, which could show of all the SOGAY's, we predicted 85% of them to be SOGAY's.\n",
        "\n"
      ],
      "metadata": {
        "id": "aaWjp7NCF7Dv"
      }
    },
    {
      "cell_type": "code",
      "source": [
        "r_forest.get_params()"
      ],
      "metadata": {
        "colab": {
          "base_uri": "https://localhost:8080/"
        },
        "id": "_2sOP1_OJiUa",
        "outputId": "818874d3-cc40-446b-8007-924b0ad1b74c"
      },
      "execution_count": null,
      "outputs": [
        {
          "output_type": "execute_result",
          "data": {
            "text/plain": [
              "{'bootstrap': True,\n",
              " 'ccp_alpha': 0.0,\n",
              " 'class_weight': None,\n",
              " 'criterion': 'gini',\n",
              " 'max_depth': None,\n",
              " 'max_features': 'auto',\n",
              " 'max_leaf_nodes': None,\n",
              " 'max_samples': None,\n",
              " 'min_impurity_decrease': 0.0,\n",
              " 'min_samples_leaf': 1,\n",
              " 'min_samples_split': 2,\n",
              " 'min_weight_fraction_leaf': 0.0,\n",
              " 'n_estimators': 100,\n",
              " 'n_jobs': None,\n",
              " 'oob_score': False,\n",
              " 'random_state': 42,\n",
              " 'verbose': 0,\n",
              " 'warm_start': False}"
            ]
          },
          "metadata": {},
          "execution_count": 17
        }
      ]
    },
    {
      "cell_type": "markdown",
      "source": [
        "We can do Grid search to see what combinations can be made to better the model! "
      ],
      "metadata": {
        "id": "C_NQu2clKWH8"
      }
    },
    {
      "cell_type": "code",
      "source": [
        "parameters_to_tune = {'min_samples_split': [2, 4, 6],\n",
        "                      'min_samples_leaf': [1, 2, 5],\n",
        "                      'max_depth': [None, 4, 10],\n",
        "                      'max_features':[None, 2, 4],\n",
        "                      'class_weight':[None, 6, 8],\n",
        "                      }"
      ],
      "metadata": {
        "id": "COreOg2c5I6h"
      },
      "execution_count": null,
      "outputs": []
    },
    {
      "cell_type": "code",
      "source": [
        "#Create the param grid \n",
        "grid_search = GridSearchCV(r_forest, parameters_to_tune, cv=10)\n",
        "grid_search\n",
        "\n"
      ],
      "metadata": {
        "colab": {
          "base_uri": "https://localhost:8080/"
        },
        "id": "zX-NRT1BKUGb",
        "outputId": "4bf3a250-6b8b-4746-e5f2-3dfc6cc4b389"
      },
      "execution_count": null,
      "outputs": [
        {
          "output_type": "execute_result",
          "data": {
            "text/plain": [
              "GridSearchCV(cv=10, estimator=RandomForestClassifier(random_state=42),\n",
              "             param_grid={'class_weight': [None, 6, 8],\n",
              "                         'max_depth': [None, 4, 10],\n",
              "                         'max_features': [None, 2, 4],\n",
              "                         'min_samples_leaf': [1, 2, 5],\n",
              "                         'min_samples_split': [2, 4, 6]})"
            ]
          },
          "metadata": {},
          "execution_count": 35
        }
      ]
    },
    {
      "cell_type": "code",
      "source": [
        "grid_search.fit(X_train.values, y_train.values)"
      ],
      "metadata": {
        "id": "uwEMy2kBdOcW",
        "colab": {
          "base_uri": "https://localhost:8080/"
        },
        "outputId": "b38d5451-f538-4107-e50b-80a250c1de73"
      },
      "execution_count": null,
      "outputs": [
        {
          "output_type": "stream",
          "name": "stderr",
          "text": [
            "/usr/local/lib/python3.7/dist-packages/sklearn/model_selection/_validation.py:372: FitFailedWarning: \n",
            "1620 fits failed out of a total of 2430.\n",
            "The score on these train-test partitions for these parameters will be set to nan.\n",
            "If these failures are not expected, you can try to debug them by setting error_score='raise'.\n",
            "\n",
            "Below are more details about the failures:\n",
            "--------------------------------------------------------------------------------\n",
            "1620 fits failed with the following error:\n",
            "Traceback (most recent call last):\n",
            "  File \"/usr/local/lib/python3.7/dist-packages/sklearn/model_selection/_validation.py\", line 680, in _fit_and_score\n",
            "    estimator.fit(X_train, y_train, **fit_params)\n",
            "  File \"/usr/local/lib/python3.7/dist-packages/sklearn/ensemble/_forest.py\", line 367, in fit\n",
            "    y, expanded_class_weight = self._validate_y_class_weight(y)\n",
            "  File \"/usr/local/lib/python3.7/dist-packages/sklearn/ensemble/_forest.py\", line 783, in _validate_y_class_weight\n",
            "    expanded_class_weight = compute_sample_weight(class_weight, y_original)\n",
            "  File \"/usr/local/lib/python3.7/dist-packages/sklearn/utils/class_weight.py\", line 168, in compute_sample_weight\n",
            "    class_weight_k, classes=classes_full, y=y_full\n",
            "  File \"/usr/local/lib/python3.7/dist-packages/sklearn/utils/class_weight.py\", line 42, in compute_class_weight\n",
            "    if class_weight is None or len(class_weight) == 0:\n",
            "TypeError: object of type 'int' has no len()\n",
            "\n",
            "  warnings.warn(some_fits_failed_message, FitFailedWarning)\n",
            "/usr/local/lib/python3.7/dist-packages/sklearn/model_selection/_search.py:972: UserWarning: One or more of the test scores are non-finite: [0.87818262 0.88110184 0.87818262 0.87816067 0.87816067 0.87813872\n",
            " 0.873705   0.873705   0.873705   0.873705   0.87519754 0.88116769\n",
            " 0.88118964 0.88118964 0.87227831 0.87813872 0.87813872 0.87813872\n",
            " 0.88555751 0.88858648 0.8856014  0.89010097 0.89010097 0.88709394\n",
            " 0.87956541 0.87956541 0.87956541 0.83213345 0.83064091 0.8321115\n",
            " 0.8321115  0.8321115  0.8321115  0.83509658 0.83509658 0.83509658\n",
            " 0.85592625 0.8559482  0.85746269 0.86038191 0.86038191 0.85739684\n",
            " 0.85296313 0.85296313 0.85296313 0.84703687 0.84997805 0.85445566\n",
            " 0.85294118 0.85294118 0.86038191 0.85443371 0.85443371 0.85443371\n",
            " 0.87816067 0.88112379 0.87519754 0.8796532  0.8796532  0.87813872\n",
            " 0.873705   0.873705   0.873705   0.88415277 0.87664618 0.87521949\n",
            " 0.87963126 0.87963126 0.87377085 0.87811677 0.87811677 0.87811677\n",
            " 0.8796532  0.88410887 0.89150571 0.8856453  0.8856453  0.88263828\n",
            " 0.88107989 0.88107989 0.88107989        nan        nan        nan\n",
            "        nan        nan        nan        nan        nan        nan\n",
            "        nan        nan        nan        nan        nan        nan\n",
            "        nan        nan        nan        nan        nan        nan\n",
            "        nan        nan        nan        nan        nan        nan\n",
            "        nan        nan        nan        nan        nan        nan\n",
            "        nan        nan        nan        nan        nan        nan\n",
            "        nan        nan        nan        nan        nan        nan\n",
            "        nan        nan        nan        nan        nan        nan\n",
            "        nan        nan        nan        nan        nan        nan\n",
            "        nan        nan        nan        nan        nan        nan\n",
            "        nan        nan        nan        nan        nan        nan\n",
            "        nan        nan        nan        nan        nan        nan\n",
            "        nan        nan        nan        nan        nan        nan\n",
            "        nan        nan        nan        nan        nan        nan\n",
            "        nan        nan        nan        nan        nan        nan\n",
            "        nan        nan        nan        nan        nan        nan\n",
            "        nan        nan        nan        nan        nan        nan\n",
            "        nan        nan        nan        nan        nan        nan\n",
            "        nan        nan        nan        nan        nan        nan\n",
            "        nan        nan        nan        nan        nan        nan\n",
            "        nan        nan        nan        nan        nan        nan\n",
            "        nan        nan        nan        nan        nan        nan\n",
            "        nan        nan        nan        nan        nan        nan\n",
            "        nan        nan        nan        nan        nan        nan\n",
            "        nan        nan        nan        nan        nan        nan\n",
            "        nan        nan        nan        nan        nan        nan\n",
            "        nan        nan        nan]\n",
            "  category=UserWarning,\n"
          ]
        },
        {
          "output_type": "execute_result",
          "data": {
            "text/plain": [
              "GridSearchCV(cv=10, estimator=RandomForestClassifier(random_state=42),\n",
              "             param_grid={'class_weight': [None, 6, 8],\n",
              "                         'max_depth': [None, 4, 10],\n",
              "                         'max_features': [None, 2, 4],\n",
              "                         'min_samples_leaf': [1, 2, 5],\n",
              "                         'min_samples_split': [2, 4, 6]})"
            ]
          },
          "metadata": {},
          "execution_count": 36
        }
      ]
    },
    {
      "cell_type": "code",
      "source": [
        "best_model = grid_search.best_params_\n",
        "\n",
        "#retrieve the best version of the model\n",
        "best_model = grid_search.best_estimator_\n",
        "#refit the model on the whole training set\n",
        "best_model.fit(X_train.values, y_train.values)\n",
        "#score the model on the test set\n",
        "best_model.score(X_test.values, y_test.values)"
      ],
      "metadata": {
        "colab": {
          "base_uri": "https://localhost:8080/"
        },
        "id": "KwPS1dUncj5p",
        "outputId": "3abf7354-ccd4-44d2-bdf3-7838a3156e83"
      },
      "execution_count": null,
      "outputs": [
        {
          "output_type": "execute_result",
          "data": {
            "text/plain": [
              "0.9066666666666666"
            ]
          },
          "metadata": {},
          "execution_count": 37
        }
      ]
    }
  ]
}