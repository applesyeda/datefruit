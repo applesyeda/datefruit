{
  "nbformat": 4,
  "nbformat_minor": 0,
  "metadata": {
    "colab": {
      "name": "Project 2 - Part 5 (Core).ipynb",
      "provenance": []
    },
    "kernelspec": {
      "name": "python3",
      "display_name": "Python 3"
    },
    "language_info": {
      "name": "python"
    }
  },
  "cells": [
    {
      "cell_type": "code",
      "execution_count": null,
      "metadata": {
        "colab": {
          "base_uri": "https://localhost:8080/"
        },
        "id": "AWu1PNzUMWs3",
        "outputId": "9f365677-ba6f-48e3-ee3f-b746ec681fb9"
      },
      "outputs": [
        {
          "output_type": "stream",
          "name": "stdout",
          "text": [
            "Drive already mounted at /content/drive; to attempt to forcibly remount, call drive.mount(\"/content/drive\", force_remount=True).\n"
          ]
        }
      ],
      "source": [
        "# Loading data from Google Drive\n",
        "from google.colab import drive\n",
        "drive.mount('/content/drive')"
      ]
    },
    {
      "cell_type": "code",
      "source": [
        "# Imports\n",
        "import numpy as np\n",
        "import matplotlib.pyplot as plt\n",
        "import pandas as pd\n",
        "from sklearn.preprocessing import StandardScaler\n",
        "from sklearn.cluster import DBSCAN\n",
        "import seaborn as sns\n",
        "from sklearn.cluster import KMeans"
      ],
      "metadata": {
        "id": "Tiaeeen6M7LE"
      },
      "execution_count": null,
      "outputs": []
    },
    {
      "cell_type": "code",
      "source": [
        "#Loading the data\n",
        "filename = \"/content/Date_Fruit_Datasets.xlsx\"\n",
        "df= pd.read_excel(filename)\n",
        "df"
      ],
      "metadata": {
        "colab": {
          "base_uri": "https://localhost:8080/",
          "height": 488
        },
        "id": "8eap35oZNNFV",
        "outputId": "c0cdbdef-f223-4427-a436-baf57aa1b1a2"
      },
      "execution_count": null,
      "outputs": [
        {
          "output_type": "execute_result",
          "data": {
            "text/plain": [
              "       AREA  PERIMETER  MAJOR_AXIS  MINOR_AXIS  ECCENTRICITY   EQDIASQ  \\\n",
              "0    422163  2378.9080    837.8484    645.6693        0.6373  733.1539   \n",
              "1    338136  2085.1440    723.8198    595.2073        0.5690  656.1464   \n",
              "2    526843  2647.3940    940.7379    715.3638        0.6494  819.0222   \n",
              "3    416063  2351.2100    827.9804    645.2988        0.6266  727.8378   \n",
              "4    347562  2160.3540    763.9877    582.8359        0.6465  665.2291   \n",
              "..      ...        ...         ...         ...           ...       ...   \n",
              "893  255403  1925.3650    691.8453    477.1796        0.7241  570.2536   \n",
              "894  365924  2664.8230    855.4633    551.5447        0.7644  682.5752   \n",
              "895  254330  1926.7360    747.4943    435.6219        0.8126  569.0545   \n",
              "896  238955  1906.2679    716.6485    441.8297        0.7873  551.5859   \n",
              "897  343792  2289.2720    823.8438    534.7757        0.7607  661.6113   \n",
              "\n",
              "     SOLIDITY  CONVEX_AREA  EXTENT  ASPECT_RATIO  ...  KurtosisRR  KurtosisRG  \\\n",
              "0      0.9947       424428  0.7831        1.2976  ...      3.2370      2.9574   \n",
              "1      0.9974       339014  0.7795        1.2161  ...      2.6228      2.6350   \n",
              "2      0.9962       528876  0.7657        1.3150  ...      3.7516      3.8611   \n",
              "3      0.9948       418255  0.7759        1.2831  ...      5.0401      8.6136   \n",
              "4      0.9908       350797  0.7569        1.3108  ...      2.7016      2.9761   \n",
              "..        ...          ...     ...           ...  ...         ...         ...   \n",
              "893    0.9785       261028  0.7269        1.4499  ...      2.2423      2.3704   \n",
              "894    0.9466       386566  0.6695        1.5510  ...      3.4109      3.5805   \n",
              "895    0.9925       256255  0.7240        1.7159  ...      2.2759      2.5090   \n",
              "896    0.9604       248795  0.6954        1.6220  ...      2.6769      2.6874   \n",
              "897    0.9781       351472  0.6941        1.5405  ...      2.5138      3.0369   \n",
              "\n",
              "     KurtosisRB    EntropyRR    EntropyRG    EntropyRB  ALLdaub4RR  \\\n",
              "0        4.2287 -59191263232 -50714214400 -39922372608     58.7255   \n",
              "1        3.1704 -34233065472 -37462601728 -31477794816     50.0259   \n",
              "2        4.7192 -93948354560 -74738221056 -60311207936     65.4772   \n",
              "3        8.2618 -32074307584 -32060925952 -29575010304     43.3900   \n",
              "4        4.4146 -39980974080 -35980042240 -25593278464     52.7743   \n",
              "..          ...          ...          ...          ...         ...   \n",
              "893      2.7202 -25296416768 -19168882688 -18473392128     49.0869   \n",
              "894      3.9910 -31605219328 -21945366528 -19277905920     46.8086   \n",
              "895      2.6951 -22242772992 -19594921984 -17592152064     44.1325   \n",
              "896      2.7991 -26048595968 -21299822592 -19809978368     51.2267   \n",
              "897      3.0865 -31983476736 -20482514944 -21219354624     47.3454   \n",
              "\n",
              "     ALLdaub4RG  ALLdaub4RB  Class  \n",
              "0       54.9554     47.8400  BERHI  \n",
              "1       52.8168     47.8315  BERHI  \n",
              "2       59.2860     51.9378  BERHI  \n",
              "3       44.1259     41.1882  BERHI  \n",
              "4       50.9080     42.6666  BERHI  \n",
              "..          ...         ...    ...  \n",
              "893     43.0422     42.4153  SOGAY  \n",
              "894     39.1046     36.5502  SOGAY  \n",
              "895     40.7986     40.9769  SOGAY  \n",
              "896     45.7162     45.6260  SOGAY  \n",
              "897     38.6966     39.6738  SOGAY  \n",
              "\n",
              "[898 rows x 35 columns]"
            ],
            "text/html": [
              "\n",
              "  <div id=\"df-2411d095-09d1-4cde-8a04-26cf7d938c51\">\n",
              "    <div class=\"colab-df-container\">\n",
              "      <div>\n",
              "<style scoped>\n",
              "    .dataframe tbody tr th:only-of-type {\n",
              "        vertical-align: middle;\n",
              "    }\n",
              "\n",
              "    .dataframe tbody tr th {\n",
              "        vertical-align: top;\n",
              "    }\n",
              "\n",
              "    .dataframe thead th {\n",
              "        text-align: right;\n",
              "    }\n",
              "</style>\n",
              "<table border=\"1\" class=\"dataframe\">\n",
              "  <thead>\n",
              "    <tr style=\"text-align: right;\">\n",
              "      <th></th>\n",
              "      <th>AREA</th>\n",
              "      <th>PERIMETER</th>\n",
              "      <th>MAJOR_AXIS</th>\n",
              "      <th>MINOR_AXIS</th>\n",
              "      <th>ECCENTRICITY</th>\n",
              "      <th>EQDIASQ</th>\n",
              "      <th>SOLIDITY</th>\n",
              "      <th>CONVEX_AREA</th>\n",
              "      <th>EXTENT</th>\n",
              "      <th>ASPECT_RATIO</th>\n",
              "      <th>...</th>\n",
              "      <th>KurtosisRR</th>\n",
              "      <th>KurtosisRG</th>\n",
              "      <th>KurtosisRB</th>\n",
              "      <th>EntropyRR</th>\n",
              "      <th>EntropyRG</th>\n",
              "      <th>EntropyRB</th>\n",
              "      <th>ALLdaub4RR</th>\n",
              "      <th>ALLdaub4RG</th>\n",
              "      <th>ALLdaub4RB</th>\n",
              "      <th>Class</th>\n",
              "    </tr>\n",
              "  </thead>\n",
              "  <tbody>\n",
              "    <tr>\n",
              "      <th>0</th>\n",
              "      <td>422163</td>\n",
              "      <td>2378.9080</td>\n",
              "      <td>837.8484</td>\n",
              "      <td>645.6693</td>\n",
              "      <td>0.6373</td>\n",
              "      <td>733.1539</td>\n",
              "      <td>0.9947</td>\n",
              "      <td>424428</td>\n",
              "      <td>0.7831</td>\n",
              "      <td>1.2976</td>\n",
              "      <td>...</td>\n",
              "      <td>3.2370</td>\n",
              "      <td>2.9574</td>\n",
              "      <td>4.2287</td>\n",
              "      <td>-59191263232</td>\n",
              "      <td>-50714214400</td>\n",
              "      <td>-39922372608</td>\n",
              "      <td>58.7255</td>\n",
              "      <td>54.9554</td>\n",
              "      <td>47.8400</td>\n",
              "      <td>BERHI</td>\n",
              "    </tr>\n",
              "    <tr>\n",
              "      <th>1</th>\n",
              "      <td>338136</td>\n",
              "      <td>2085.1440</td>\n",
              "      <td>723.8198</td>\n",
              "      <td>595.2073</td>\n",
              "      <td>0.5690</td>\n",
              "      <td>656.1464</td>\n",
              "      <td>0.9974</td>\n",
              "      <td>339014</td>\n",
              "      <td>0.7795</td>\n",
              "      <td>1.2161</td>\n",
              "      <td>...</td>\n",
              "      <td>2.6228</td>\n",
              "      <td>2.6350</td>\n",
              "      <td>3.1704</td>\n",
              "      <td>-34233065472</td>\n",
              "      <td>-37462601728</td>\n",
              "      <td>-31477794816</td>\n",
              "      <td>50.0259</td>\n",
              "      <td>52.8168</td>\n",
              "      <td>47.8315</td>\n",
              "      <td>BERHI</td>\n",
              "    </tr>\n",
              "    <tr>\n",
              "      <th>2</th>\n",
              "      <td>526843</td>\n",
              "      <td>2647.3940</td>\n",
              "      <td>940.7379</td>\n",
              "      <td>715.3638</td>\n",
              "      <td>0.6494</td>\n",
              "      <td>819.0222</td>\n",
              "      <td>0.9962</td>\n",
              "      <td>528876</td>\n",
              "      <td>0.7657</td>\n",
              "      <td>1.3150</td>\n",
              "      <td>...</td>\n",
              "      <td>3.7516</td>\n",
              "      <td>3.8611</td>\n",
              "      <td>4.7192</td>\n",
              "      <td>-93948354560</td>\n",
              "      <td>-74738221056</td>\n",
              "      <td>-60311207936</td>\n",
              "      <td>65.4772</td>\n",
              "      <td>59.2860</td>\n",
              "      <td>51.9378</td>\n",
              "      <td>BERHI</td>\n",
              "    </tr>\n",
              "    <tr>\n",
              "      <th>3</th>\n",
              "      <td>416063</td>\n",
              "      <td>2351.2100</td>\n",
              "      <td>827.9804</td>\n",
              "      <td>645.2988</td>\n",
              "      <td>0.6266</td>\n",
              "      <td>727.8378</td>\n",
              "      <td>0.9948</td>\n",
              "      <td>418255</td>\n",
              "      <td>0.7759</td>\n",
              "      <td>1.2831</td>\n",
              "      <td>...</td>\n",
              "      <td>5.0401</td>\n",
              "      <td>8.6136</td>\n",
              "      <td>8.2618</td>\n",
              "      <td>-32074307584</td>\n",
              "      <td>-32060925952</td>\n",
              "      <td>-29575010304</td>\n",
              "      <td>43.3900</td>\n",
              "      <td>44.1259</td>\n",
              "      <td>41.1882</td>\n",
              "      <td>BERHI</td>\n",
              "    </tr>\n",
              "    <tr>\n",
              "      <th>4</th>\n",
              "      <td>347562</td>\n",
              "      <td>2160.3540</td>\n",
              "      <td>763.9877</td>\n",
              "      <td>582.8359</td>\n",
              "      <td>0.6465</td>\n",
              "      <td>665.2291</td>\n",
              "      <td>0.9908</td>\n",
              "      <td>350797</td>\n",
              "      <td>0.7569</td>\n",
              "      <td>1.3108</td>\n",
              "      <td>...</td>\n",
              "      <td>2.7016</td>\n",
              "      <td>2.9761</td>\n",
              "      <td>4.4146</td>\n",
              "      <td>-39980974080</td>\n",
              "      <td>-35980042240</td>\n",
              "      <td>-25593278464</td>\n",
              "      <td>52.7743</td>\n",
              "      <td>50.9080</td>\n",
              "      <td>42.6666</td>\n",
              "      <td>BERHI</td>\n",
              "    </tr>\n",
              "    <tr>\n",
              "      <th>...</th>\n",
              "      <td>...</td>\n",
              "      <td>...</td>\n",
              "      <td>...</td>\n",
              "      <td>...</td>\n",
              "      <td>...</td>\n",
              "      <td>...</td>\n",
              "      <td>...</td>\n",
              "      <td>...</td>\n",
              "      <td>...</td>\n",
              "      <td>...</td>\n",
              "      <td>...</td>\n",
              "      <td>...</td>\n",
              "      <td>...</td>\n",
              "      <td>...</td>\n",
              "      <td>...</td>\n",
              "      <td>...</td>\n",
              "      <td>...</td>\n",
              "      <td>...</td>\n",
              "      <td>...</td>\n",
              "      <td>...</td>\n",
              "      <td>...</td>\n",
              "    </tr>\n",
              "    <tr>\n",
              "      <th>893</th>\n",
              "      <td>255403</td>\n",
              "      <td>1925.3650</td>\n",
              "      <td>691.8453</td>\n",
              "      <td>477.1796</td>\n",
              "      <td>0.7241</td>\n",
              "      <td>570.2536</td>\n",
              "      <td>0.9785</td>\n",
              "      <td>261028</td>\n",
              "      <td>0.7269</td>\n",
              "      <td>1.4499</td>\n",
              "      <td>...</td>\n",
              "      <td>2.2423</td>\n",
              "      <td>2.3704</td>\n",
              "      <td>2.7202</td>\n",
              "      <td>-25296416768</td>\n",
              "      <td>-19168882688</td>\n",
              "      <td>-18473392128</td>\n",
              "      <td>49.0869</td>\n",
              "      <td>43.0422</td>\n",
              "      <td>42.4153</td>\n",
              "      <td>SOGAY</td>\n",
              "    </tr>\n",
              "    <tr>\n",
              "      <th>894</th>\n",
              "      <td>365924</td>\n",
              "      <td>2664.8230</td>\n",
              "      <td>855.4633</td>\n",
              "      <td>551.5447</td>\n",
              "      <td>0.7644</td>\n",
              "      <td>682.5752</td>\n",
              "      <td>0.9466</td>\n",
              "      <td>386566</td>\n",
              "      <td>0.6695</td>\n",
              "      <td>1.5510</td>\n",
              "      <td>...</td>\n",
              "      <td>3.4109</td>\n",
              "      <td>3.5805</td>\n",
              "      <td>3.9910</td>\n",
              "      <td>-31605219328</td>\n",
              "      <td>-21945366528</td>\n",
              "      <td>-19277905920</td>\n",
              "      <td>46.8086</td>\n",
              "      <td>39.1046</td>\n",
              "      <td>36.5502</td>\n",
              "      <td>SOGAY</td>\n",
              "    </tr>\n",
              "    <tr>\n",
              "      <th>895</th>\n",
              "      <td>254330</td>\n",
              "      <td>1926.7360</td>\n",
              "      <td>747.4943</td>\n",
              "      <td>435.6219</td>\n",
              "      <td>0.8126</td>\n",
              "      <td>569.0545</td>\n",
              "      <td>0.9925</td>\n",
              "      <td>256255</td>\n",
              "      <td>0.7240</td>\n",
              "      <td>1.7159</td>\n",
              "      <td>...</td>\n",
              "      <td>2.2759</td>\n",
              "      <td>2.5090</td>\n",
              "      <td>2.6951</td>\n",
              "      <td>-22242772992</td>\n",
              "      <td>-19594921984</td>\n",
              "      <td>-17592152064</td>\n",
              "      <td>44.1325</td>\n",
              "      <td>40.7986</td>\n",
              "      <td>40.9769</td>\n",
              "      <td>SOGAY</td>\n",
              "    </tr>\n",
              "    <tr>\n",
              "      <th>896</th>\n",
              "      <td>238955</td>\n",
              "      <td>1906.2679</td>\n",
              "      <td>716.6485</td>\n",
              "      <td>441.8297</td>\n",
              "      <td>0.7873</td>\n",
              "      <td>551.5859</td>\n",
              "      <td>0.9604</td>\n",
              "      <td>248795</td>\n",
              "      <td>0.6954</td>\n",
              "      <td>1.6220</td>\n",
              "      <td>...</td>\n",
              "      <td>2.6769</td>\n",
              "      <td>2.6874</td>\n",
              "      <td>2.7991</td>\n",
              "      <td>-26048595968</td>\n",
              "      <td>-21299822592</td>\n",
              "      <td>-19809978368</td>\n",
              "      <td>51.2267</td>\n",
              "      <td>45.7162</td>\n",
              "      <td>45.6260</td>\n",
              "      <td>SOGAY</td>\n",
              "    </tr>\n",
              "    <tr>\n",
              "      <th>897</th>\n",
              "      <td>343792</td>\n",
              "      <td>2289.2720</td>\n",
              "      <td>823.8438</td>\n",
              "      <td>534.7757</td>\n",
              "      <td>0.7607</td>\n",
              "      <td>661.6113</td>\n",
              "      <td>0.9781</td>\n",
              "      <td>351472</td>\n",
              "      <td>0.6941</td>\n",
              "      <td>1.5405</td>\n",
              "      <td>...</td>\n",
              "      <td>2.5138</td>\n",
              "      <td>3.0369</td>\n",
              "      <td>3.0865</td>\n",
              "      <td>-31983476736</td>\n",
              "      <td>-20482514944</td>\n",
              "      <td>-21219354624</td>\n",
              "      <td>47.3454</td>\n",
              "      <td>38.6966</td>\n",
              "      <td>39.6738</td>\n",
              "      <td>SOGAY</td>\n",
              "    </tr>\n",
              "  </tbody>\n",
              "</table>\n",
              "<p>898 rows × 35 columns</p>\n",
              "</div>\n",
              "      <button class=\"colab-df-convert\" onclick=\"convertToInteractive('df-2411d095-09d1-4cde-8a04-26cf7d938c51')\"\n",
              "              title=\"Convert this dataframe to an interactive table.\"\n",
              "              style=\"display:none;\">\n",
              "        \n",
              "  <svg xmlns=\"http://www.w3.org/2000/svg\" height=\"24px\"viewBox=\"0 0 24 24\"\n",
              "       width=\"24px\">\n",
              "    <path d=\"M0 0h24v24H0V0z\" fill=\"none\"/>\n",
              "    <path d=\"M18.56 5.44l.94 2.06.94-2.06 2.06-.94-2.06-.94-.94-2.06-.94 2.06-2.06.94zm-11 1L8.5 8.5l.94-2.06 2.06-.94-2.06-.94L8.5 2.5l-.94 2.06-2.06.94zm10 10l.94 2.06.94-2.06 2.06-.94-2.06-.94-.94-2.06-.94 2.06-2.06.94z\"/><path d=\"M17.41 7.96l-1.37-1.37c-.4-.4-.92-.59-1.43-.59-.52 0-1.04.2-1.43.59L10.3 9.45l-7.72 7.72c-.78.78-.78 2.05 0 2.83L4 21.41c.39.39.9.59 1.41.59.51 0 1.02-.2 1.41-.59l7.78-7.78 2.81-2.81c.8-.78.8-2.07 0-2.86zM5.41 20L4 18.59l7.72-7.72 1.47 1.35L5.41 20z\"/>\n",
              "  </svg>\n",
              "      </button>\n",
              "      \n",
              "  <style>\n",
              "    .colab-df-container {\n",
              "      display:flex;\n",
              "      flex-wrap:wrap;\n",
              "      gap: 12px;\n",
              "    }\n",
              "\n",
              "    .colab-df-convert {\n",
              "      background-color: #E8F0FE;\n",
              "      border: none;\n",
              "      border-radius: 50%;\n",
              "      cursor: pointer;\n",
              "      display: none;\n",
              "      fill: #1967D2;\n",
              "      height: 32px;\n",
              "      padding: 0 0 0 0;\n",
              "      width: 32px;\n",
              "    }\n",
              "\n",
              "    .colab-df-convert:hover {\n",
              "      background-color: #E2EBFA;\n",
              "      box-shadow: 0px 1px 2px rgba(60, 64, 67, 0.3), 0px 1px 3px 1px rgba(60, 64, 67, 0.15);\n",
              "      fill: #174EA6;\n",
              "    }\n",
              "\n",
              "    [theme=dark] .colab-df-convert {\n",
              "      background-color: #3B4455;\n",
              "      fill: #D2E3FC;\n",
              "    }\n",
              "\n",
              "    [theme=dark] .colab-df-convert:hover {\n",
              "      background-color: #434B5C;\n",
              "      box-shadow: 0px 1px 3px 1px rgba(0, 0, 0, 0.15);\n",
              "      filter: drop-shadow(0px 1px 2px rgba(0, 0, 0, 0.3));\n",
              "      fill: #FFFFFF;\n",
              "    }\n",
              "  </style>\n",
              "\n",
              "      <script>\n",
              "        const buttonEl =\n",
              "          document.querySelector('#df-2411d095-09d1-4cde-8a04-26cf7d938c51 button.colab-df-convert');\n",
              "        buttonEl.style.display =\n",
              "          google.colab.kernel.accessAllowed ? 'block' : 'none';\n",
              "\n",
              "        async function convertToInteractive(key) {\n",
              "          const element = document.querySelector('#df-2411d095-09d1-4cde-8a04-26cf7d938c51');\n",
              "          const dataTable =\n",
              "            await google.colab.kernel.invokeFunction('convertToInteractive',\n",
              "                                                     [key], {});\n",
              "          if (!dataTable) return;\n",
              "\n",
              "          const docLinkHtml = 'Like what you see? Visit the ' +\n",
              "            '<a target=\"_blank\" href=https://colab.research.google.com/notebooks/data_table.ipynb>data table notebook</a>'\n",
              "            + ' to learn more about interactive tables.';\n",
              "          element.innerHTML = '';\n",
              "          dataTable['output_type'] = 'display_data';\n",
              "          await google.colab.output.renderOutput(dataTable, element);\n",
              "          const docLink = document.createElement('div');\n",
              "          docLink.innerHTML = docLinkHtml;\n",
              "          element.appendChild(docLink);\n",
              "        }\n",
              "      </script>\n",
              "    </div>\n",
              "  </div>\n",
              "  "
            ]
          },
          "metadata": {},
          "execution_count": 133
        }
      ]
    },
    {
      "cell_type": "markdown",
      "source": [
        "There are no unnessary columns or rows to delete. All  are also continuous, so I do not hope to take out an outliers as they may be indicative of something else, such as a deformity in the date. "
      ],
      "metadata": {
        "id": "fo0lGTW5O3-e"
      }
    },
    {
      "cell_type": "markdown",
      "source": [
        "Identified and addressed missing values "
      ],
      "metadata": {
        "id": "K2xVg8KaO_Gc"
      }
    },
    {
      "cell_type": "code",
      "source": [
        "#Checking for duplicates while counting the rows that it is duplicating from, but no duplicates!\n",
        "df.duplicated(keep=False).sum()"
      ],
      "metadata": {
        "colab": {
          "base_uri": "https://localhost:8080/"
        },
        "id": "XZMfOIJOO-Y9",
        "outputId": "407d5f75-7a26-4433-9057-7f3a7f03cee9"
      },
      "execution_count": null,
      "outputs": [
        {
          "output_type": "execute_result",
          "data": {
            "text/plain": [
              "0"
            ]
          },
          "metadata": {},
          "execution_count": 57
        }
      ]
    },
    {
      "cell_type": "code",
      "source": [
        "#No missing data!\n",
        "null_vals = df.isna().sum()\n",
        "null_vals"
      ],
      "metadata": {
        "colab": {
          "base_uri": "https://localhost:8080/"
        },
        "id": "XBzQ9vrFPQT6",
        "outputId": "c285aca7-aa60-4862-d48d-50959dc8845c"
      },
      "execution_count": null,
      "outputs": [
        {
          "output_type": "execute_result",
          "data": {
            "text/plain": [
              "AREA             0\n",
              "PERIMETER        0\n",
              "MAJOR_AXIS       0\n",
              "MINOR_AXIS       0\n",
              "ECCENTRICITY     0\n",
              "EQDIASQ          0\n",
              "SOLIDITY         0\n",
              "CONVEX_AREA      0\n",
              "EXTENT           0\n",
              "ASPECT_RATIO     0\n",
              "ROUNDNESS        0\n",
              "COMPACTNESS      0\n",
              "SHAPEFACTOR_1    0\n",
              "SHAPEFACTOR_2    0\n",
              "SHAPEFACTOR_3    0\n",
              "SHAPEFACTOR_4    0\n",
              "MeanRR           0\n",
              "MeanRG           0\n",
              "MeanRB           0\n",
              "StdDevRR         0\n",
              "StdDevRG         0\n",
              "StdDevRB         0\n",
              "SkewRR           0\n",
              "SkewRG           0\n",
              "SkewRB           0\n",
              "KurtosisRR       0\n",
              "KurtosisRG       0\n",
              "KurtosisRB       0\n",
              "EntropyRR        0\n",
              "EntropyRG        0\n",
              "EntropyRB        0\n",
              "ALLdaub4RR       0\n",
              "ALLdaub4RG       0\n",
              "ALLdaub4RB       0\n",
              "Class            0\n",
              "dtype: int64"
            ]
          },
          "metadata": {},
          "execution_count": 7
        }
      ]
    },
    {
      "cell_type": "markdown",
      "source": [
        "Identified and corrected inconsistencies in data for categorical values (i.e. Cat, cat, cats)"
      ],
      "metadata": {
        "id": "ptltpV2-Pjyl"
      }
    },
    {
      "cell_type": "code",
      "source": [
        "df[\"Class\"].value_counts()"
      ],
      "metadata": {
        "colab": {
          "base_uri": "https://localhost:8080/"
        },
        "id": "EcwayNOqPeMM",
        "outputId": "7811cdf6-e7a7-4744-8e8d-5846a4eb029e"
      },
      "execution_count": null,
      "outputs": [
        {
          "output_type": "execute_result",
          "data": {
            "text/plain": [
              "DOKOL     204\n",
              "SAFAVI    199\n",
              "ROTANA    166\n",
              "DEGLET     98\n",
              "SOGAY      94\n",
              "IRAQI      72\n",
              "BERHI      65\n",
              "Name: Class, dtype: int64"
            ]
          },
          "metadata": {},
          "execution_count": 134
        }
      ]
    },
    {
      "cell_type": "markdown",
      "source": [
        "The way the classes were entered in this dataset makes me believe data collection went very well since all items seemed to fit in with the ones that are supposed to exist. "
      ],
      "metadata": {
        "id": "mphqod7RP25T"
      }
    },
    {
      "cell_type": "code",
      "source": [
        "# Imports\n",
        "import numpy as np\n",
        "import matplotlib.pyplot as plt\n",
        "import pandas as pd\n",
        "from sklearn.preprocessing import StandardScaler\n",
        "from sklearn.model_selection import train_test_split\n",
        "from tensorflow.keras.models import Sequential\n",
        "from tensorflow.keras.layers import Dense\n",
        "from sklearn.compose import ColumnTransformer\n",
        "from sklearn.preprocessing import Normalizer\n",
        "from sklearn.preprocessing import OneHotEncoder\n",
        "\n"
      ],
      "metadata": {
        "id": "egYixRo1e_6y"
      },
      "execution_count": null,
      "outputs": []
    },
    {
      "cell_type": "code",
      "source": [
        "# Imports\n",
        "import numpy as np\n",
        "import matplotlib.pyplot as plt\n",
        "import pandas as pd\n",
        "from sklearn.model_selection import train_test_split\n",
        "from tensorflow.keras.models import Sequential\n",
        "from tensorflow.keras.layers import Dense\n",
        "from sklearn.compose import ColumnTransformer\n",
        "from sklearn.preprocessing import Normalizer\n",
        "from sklearn.preprocessing import StandardScaler, OneHotEncoder\n",
        "from sklearn.compose import make_column_transformer, make_column_selector\n",
        "from sklearn.impute import SimpleImputer\n",
        "\n",
        "from sklearn.pipeline import make_pipeline\n",
        "import numpy as np\n",
        "import matplotlib.pyplot as plt\n",
        "import pandas as pd\n",
        "from sklearn.preprocessing import StandardScaler\n",
        "from sklearn.model_selection import train_test_split\n",
        "from tensorflow.keras.models import Sequential\n",
        "from tensorflow.keras.layers import Dense\n",
        "\n",
        "import tensorflow as tf\n",
        "\n",
        "from sklearn.metrics import mean_squared_error, classification_report, \\\n",
        "ConfusionMatrixDisplay\n",
        "from sklearn.preprocessing import MinMaxScaler\n",
        "from sklearn.model_selection import train_test_split\n",
        "\n",
        "from tensorflow.keras.layers import Dropout"
      ],
      "metadata": {
        "id": "QoB7OqM_NPHM"
      },
      "execution_count": null,
      "outputs": []
    },
    {
      "cell_type": "code",
      "source": [
        "# Learning history plotting function\n",
        "def plot_history(history):\n",
        "  \"\"\"Takes a keras model learning history and plots each metric\"\"\"\n",
        "  \n",
        "  metrics = history.history.keys()\n",
        "  \n",
        "  for metric in metrics:\n",
        "      if not 'val' in metric:\n",
        "        plt.plot(history.history[f'{metric}'], label=f'{metric}')\n",
        "        if f'val_{metric}' in metrics:\n",
        "          plt.plot(history.history[f'val_{metric}'], label=f'val_{metric}')\n",
        "        plt.legend()\n",
        "        plt.title(f'{metric}')\n",
        "        plt.show()"
      ],
      "metadata": {
        "id": "OV9pGykLisiy"
      },
      "execution_count": null,
      "outputs": []
    },
    {
      "cell_type": "code",
      "source": [
        "# You can use this function to see how your model improves over time\n",
        "def plot_history(history, metric=None):\n",
        "  \"\"\"plot loss and passed metric.  metric is passed as string and must match 'metric'\n",
        "  argument in the compile step\"\"\"\n",
        "  fig, axes = plt.subplots(2,1, figsize = (5,10))\n",
        "  axes[0].plot(history.history['loss'], label = \"train\")\n",
        "  axes[0].plot(history.history['val_loss'], label='test')\n",
        "  axes[0].set_title('Loss')\n",
        "  axes[0].legend()\n",
        "  if metric:\n",
        "    axes[1].plot(history.history[metric], label = 'train')\n",
        "    axes[1].plot(history.history['val_' + metric], label = 'test')\n",
        "    axes[1].set_title(metric)\n",
        "    axes[1].legend()\n",
        "\n",
        "  plt.show()"
      ],
      "metadata": {
        "id": "0A25fq1_gEKM"
      },
      "execution_count": null,
      "outputs": []
    },
    {
      "cell_type": "code",
      "source": [
        "# split data\n",
        "X = df.drop(columns='Class')\n",
        "y = df['Class']\n",
        "X_train, X_test, y_train, y_test = train_test_split(X, y,\n",
        "                                                    random_state=42,\n",
        "                                                    stratify=y)"
      ],
      "metadata": {
        "id": "SBrjgWtxi-LY"
      },
      "execution_count": null,
      "outputs": []
    },
    {
      "cell_type": "code",
      "source": [
        "# check classes and balance\n",
        "df['Class'].value_counts()"
      ],
      "metadata": {
        "colab": {
          "base_uri": "https://localhost:8080/"
        },
        "id": "ua5BqO7HgJ1M",
        "outputId": "b38ab570-9747-42f1-c48a-c762e78b9637"
      },
      "execution_count": null,
      "outputs": [
        {
          "output_type": "execute_result",
          "data": {
            "text/plain": [
              "DOKOL     204\n",
              "SAFAVI    199\n",
              "ROTANA    166\n",
              "DEGLET     98\n",
              "SOGAY      94\n",
              "IRAQI      72\n",
              "BERHI      65\n",
              "Name: Class, dtype: int64"
            ]
          },
          "metadata": {},
          "execution_count": 142
        }
      ]
    },
    {
      "cell_type": "code",
      "source": [
        "# Selectors\n",
        "cat_selector = make_column_selector(dtype_include='object')\n",
        "num_selector = make_column_selector(dtype_include='number')"
      ],
      "metadata": {
        "id": "J86QjJ8CgbTM"
      },
      "execution_count": null,
      "outputs": []
    },
    {
      "cell_type": "code",
      "source": [
        "# Imputers\n",
        "freq_imputer = SimpleImputer(strategy='most_frequent')\n",
        "mean_imputer = SimpleImputer(strategy='mean')\n",
        "# Scaler\n",
        "scaler = StandardScaler()\n",
        "# One-hot encoder\n",
        "ohe = OneHotEncoder(handle_unknown='ignore', sparse=False)"
      ],
      "metadata": {
        "id": "tySbjCymgkrZ"
      },
      "execution_count": null,
      "outputs": []
    },
    {
      "cell_type": "code",
      "source": [
        "# Numeric pipeline\n",
        "numeric_pipe = make_pipeline(mean_imputer, scaler)\n",
        "numeric_pipe"
      ],
      "metadata": {
        "colab": {
          "base_uri": "https://localhost:8080/"
        },
        "id": "JDbs3KnGgnl1",
        "outputId": "3fd82d52-c84a-4874-bed9-26b5180b809e"
      },
      "execution_count": null,
      "outputs": [
        {
          "output_type": "execute_result",
          "data": {
            "text/plain": [
              "Pipeline(steps=[('simpleimputer', SimpleImputer()),\n",
              "                ('standardscaler', StandardScaler())])"
            ]
          },
          "metadata": {},
          "execution_count": 145
        }
      ]
    },
    {
      "cell_type": "code",
      "source": [
        "# Categorical pipeline\n",
        "categorical_pipe = make_pipeline(freq_imputer, ohe)\n",
        "categorical_pipe"
      ],
      "metadata": {
        "colab": {
          "base_uri": "https://localhost:8080/"
        },
        "id": "7CeNqJfcgpz9",
        "outputId": "90e559af-3e2e-43b7-f176-ecdf8878d627"
      },
      "execution_count": null,
      "outputs": [
        {
          "output_type": "execute_result",
          "data": {
            "text/plain": [
              "Pipeline(steps=[('simpleimputer', SimpleImputer(strategy='most_frequent')),\n",
              "                ('onehotencoder',\n",
              "                 OneHotEncoder(handle_unknown='ignore', sparse=False))])"
            ]
          },
          "metadata": {},
          "execution_count": 146
        }
      ]
    },
    {
      "cell_type": "code",
      "source": [
        "# Tuples for Column Transformer\n",
        "number_tuple = (numeric_pipe, num_selector)\n",
        "category_tuple = (categorical_pipe, cat_selector)\n",
        "# ColumnTransformer\n",
        "preprocessor = make_column_transformer(number_tuple, category_tuple)\n",
        "preprocessor"
      ],
      "metadata": {
        "colab": {
          "base_uri": "https://localhost:8080/"
        },
        "id": "TRfR-N1VgsK7",
        "outputId": "f83ab65e-d266-484f-fed0-244cfea9fcd0"
      },
      "execution_count": null,
      "outputs": [
        {
          "output_type": "execute_result",
          "data": {
            "text/plain": [
              "ColumnTransformer(transformers=[('pipeline-1',\n",
              "                                 Pipeline(steps=[('simpleimputer',\n",
              "                                                  SimpleImputer()),\n",
              "                                                 ('standardscaler',\n",
              "                                                  StandardScaler())]),\n",
              "                                 <sklearn.compose._column_transformer.make_column_selector object at 0x7f657bf7ab90>),\n",
              "                                ('pipeline-2',\n",
              "                                 Pipeline(steps=[('simpleimputer',\n",
              "                                                  SimpleImputer(strategy='most_frequent')),\n",
              "                                                 ('onehotencoder',\n",
              "                                                  OneHotEncoder(handle_unknown='ignore',\n",
              "                                                                sparse=False))]),\n",
              "                                 <sklearn.compose._column_transformer.make_column_selector object at 0x7f657bf7a650>)])"
            ]
          },
          "metadata": {},
          "execution_count": 147
        }
      ]
    },
    {
      "cell_type": "code",
      "source": [
        "# fit on train\n",
        "preprocessor.fit(X_train)"
      ],
      "metadata": {
        "colab": {
          "base_uri": "https://localhost:8080/"
        },
        "id": "7-nvMQyZguzu",
        "outputId": "4bb80cac-3517-4cbb-b51a-36f9cf3cafa6"
      },
      "execution_count": null,
      "outputs": [
        {
          "output_type": "execute_result",
          "data": {
            "text/plain": [
              "ColumnTransformer(transformers=[('pipeline-1',\n",
              "                                 Pipeline(steps=[('simpleimputer',\n",
              "                                                  SimpleImputer()),\n",
              "                                                 ('standardscaler',\n",
              "                                                  StandardScaler())]),\n",
              "                                 <sklearn.compose._column_transformer.make_column_selector object at 0x7f657bf7ab90>),\n",
              "                                ('pipeline-2',\n",
              "                                 Pipeline(steps=[('simpleimputer',\n",
              "                                                  SimpleImputer(strategy='most_frequent')),\n",
              "                                                 ('onehotencoder',\n",
              "                                                  OneHotEncoder(handle_unknown='ignore',\n",
              "                                                                sparse=False))]),\n",
              "                                 <sklearn.compose._column_transformer.make_column_selector object at 0x7f657bf7a650>)])"
            ]
          },
          "metadata": {},
          "execution_count": 148
        }
      ]
    },
    {
      "cell_type": "code",
      "source": [
        "# transform train and test\n",
        "X_train_processed = preprocessor.transform(X_train)\n",
        "X_test_processed = preprocessor.transform(X_test)"
      ],
      "metadata": {
        "id": "mrK2Kbxxgx-r"
      },
      "execution_count": null,
      "outputs": []
    },
    {
      "cell_type": "code",
      "source": [
        "# scale data\n",
        "scaler = StandardScaler()\n",
        " \n",
        "X_train = scaler.fit_transform(X_train_processed)\n",
        "X_test = scaler.transform(X_test_processed)"
      ],
      "metadata": {
        "id": "IHSgWpIHg0Sv"
      },
      "execution_count": null,
      "outputs": []
    },
    {
      "cell_type": "code",
      "source": [
        "from sklearn.preprocessing import LabelEncoder, LabelBinarizer\n",
        "# encode labels\n",
        "encoder = LabelEncoder()\n",
        " \n",
        "encoder.fit(y_train)\n",
        "y_train_enc = encoder.transform(y_train)\n",
        "y_test_enc = encoder.transform(y_test)\n",
        " \n",
        "# make a record of the classes, in order of the encoding, in case we want to \n",
        "# translate predictions into fish names later.\n",
        "classes = encoder.classes_\n",
        " \n",
        "# binarize labels\n",
        "binarizer = LabelBinarizer()\n",
        " \n",
        "binarizer.fit(y_train_enc)\n",
        "y_train_bin = binarizer.transform(y_train_enc)\n",
        "y_test_bin = binarizer.transform(y_test_enc)\n",
        " \n",
        "# check results\n",
        "print('Original Target')\n",
        "print(y_train.head())\n",
        " \n",
        "print('\\nEncoded Target')\n",
        "print(y_train_enc[:7])\n",
        " \n",
        "print('\\nBinarized Target')\n",
        "print(y_train_bin[:7])"
      ],
      "metadata": {
        "colab": {
          "base_uri": "https://localhost:8080/"
        },
        "id": "WpTjtPJmjR9F",
        "outputId": "6f1aa8dd-462e-4410-f25b-33bfd3256e80"
      },
      "execution_count": null,
      "outputs": [
        {
          "output_type": "stream",
          "name": "stdout",
          "text": [
            "Original Target\n",
            "720    SAFAVI\n",
            "552    ROTANA\n",
            "259     DOKOL\n",
            "626    SAFAVI\n",
            "579    ROTANA\n",
            "Name: Class, dtype: object\n",
            "\n",
            "Encoded Target\n",
            "[5 4 2 5 4 6 3]\n",
            "\n",
            "Binarized Target\n",
            "[[0 0 0 0 0 1 0]\n",
            " [0 0 0 0 1 0 0]\n",
            " [0 0 1 0 0 0 0]\n",
            " [0 0 0 0 0 1 0]\n",
            " [0 0 0 0 1 0 0]\n",
            " [0 0 0 0 0 0 1]\n",
            " [0 0 0 1 0 0 0]]\n"
          ]
        }
      ]
    },
    {
      "cell_type": "code",
      "source": [
        "# create model architecture\n",
        " \n",
        "# define some parameters\n",
        "input_dim = X_train.shape[1]\n",
        "num_classes = len(classes)\n",
        " \n",
        "# instantiate the base model\n",
        "multi_model = Sequential()\n",
        " \n",
        "# add layers\n",
        "multi_model.add(Dense(50, input_dim=input_dim, activation='relu'))\n",
        "multi_model.add(Dropout(.3))\n",
        "multi_model.add(Dense(50, activation='relu'))\n",
        "multi_model.add(Dropout(.3))\n",
        "multi_model.add(Dense(num_classes, activation='softmax'))\n",
        "multi_model.summary()"
      ],
      "metadata": {
        "colab": {
          "base_uri": "https://localhost:8080/"
        },
        "id": "r7QPDUjXjaSE",
        "outputId": "be4f5ee5-1ead-43f0-c523-4f6c701bb468"
      },
      "execution_count": null,
      "outputs": [
        {
          "output_type": "stream",
          "name": "stdout",
          "text": [
            "Model: \"sequential_11\"\n",
            "_________________________________________________________________\n",
            " Layer (type)                Output Shape              Param #   \n",
            "=================================================================\n",
            " dense_33 (Dense)            (None, 50)                1750      \n",
            "                                                                 \n",
            " dropout_6 (Dropout)         (None, 50)                0         \n",
            "                                                                 \n",
            " dense_34 (Dense)            (None, 50)                2550      \n",
            "                                                                 \n",
            " dropout_7 (Dropout)         (None, 50)                0         \n",
            "                                                                 \n",
            " dense_35 (Dense)            (None, 7)                 357       \n",
            "                                                                 \n",
            "=================================================================\n",
            "Total params: 4,657\n",
            "Trainable params: 4,657\n",
            "Non-trainable params: 0\n",
            "_________________________________________________________________\n"
          ]
        }
      ]
    },
    {
      "cell_type": "code",
      "source": [
        "# compile model with categorical_crossentropy\n",
        " \n",
        "model.compile(loss='categorical_crossentropy', \n",
        "                    optimizer='adam', \n",
        "                    metrics=['accuracy'])"
      ],
      "metadata": {
        "id": "rdO6jdgYjjd3"
      },
      "execution_count": null,
      "outputs": []
    },
    {
      "cell_type": "code",
      "source": [
        "# fit model\n",
        " \n",
        "history = model.fit(X_train, y_train_bin,\n",
        "                          validation_data=(X_test, y_test_bin),\n",
        "                          epochs=150,\n",
        "                          verbose=0)    "
      ],
      "metadata": {
        "id": "GnuxGPbZjsp9"
      },
      "execution_count": null,
      "outputs": []
    },
    {
      "cell_type": "code",
      "source": [
        "# See how your model is doing\n",
        "plot_history(history, 'accuracy')"
      ],
      "metadata": {
        "colab": {
          "base_uri": "https://localhost:8080/",
          "height": 607
        },
        "id": "qG204IFSnWBM",
        "outputId": "607bcc87-bb86-457d-e9a8-00d0c9e89b87"
      },
      "execution_count": null,
      "outputs": [
        {
          "output_type": "display_data",
          "data": {
            "text/plain": [
              "<Figure size 360x720 with 2 Axes>"
            ],
            "image/png": "[encoded data removed]"
          },
          "metadata": {
            "needs_background": "light"
          }
        }
      ]
    },
    {
      "cell_type": "code",
      "source": [
        "# get raw predictions\n",
        "raw_pred = model.predict(X_test)\n",
        " \n",
        "# display predictions and binarized true labels\n",
        "print('Raw Predictions\\n', raw_pred[:7])\n",
        "print('\\nbinarized y_test\\n', y_test_bin[:7])"
      ],
      "metadata": {
        "colab": {
          "base_uri": "https://localhost:8080/"
        },
        "id": "mKNBMSYvoJLk",
        "outputId": "a65deda2-2d1d-47a8-c538-eadcb257d27c"
      },
      "execution_count": null,
      "outputs": [
        {
          "output_type": "stream",
          "name": "stdout",
          "text": [
            "Raw Predictions\n",
            " [[1.20551670e-06 3.22327338e-04 9.99676466e-01 8.07778368e-19\n",
            "  6.58983163e-14 4.63092144e-18 5.65648223e-11]\n",
            " [6.18740892e-11 6.97366486e-05 9.99930263e-01 1.53718054e-22\n",
            "  2.18784871e-17 4.91635130e-22 3.36569705e-08]\n",
            " [4.08481160e-09 2.14031828e-03 8.03052350e-16 1.30076776e-08\n",
            "  9.13758695e-01 1.09560166e-10 8.41009393e-02]\n",
            " [4.15756984e-10 3.67189415e-07 9.99999523e-01 1.83641044e-18\n",
            "  3.62879714e-16 3.07466963e-18 9.25443331e-08]\n",
            " [1.80715286e-11 6.08266681e-04 9.99389410e-01 3.34164488e-21\n",
            "  2.13913423e-17 2.07767155e-20 2.20739548e-06]\n",
            " [3.17310824e-15 8.67930794e-06 3.94506025e-11 6.94319207e-16\n",
            "  2.06394242e-11 2.89733888e-14 9.99991298e-01]\n",
            " [2.71882482e-11 6.79320514e-01 1.64508211e-08 2.43569072e-17\n",
            "  8.82008067e-09 9.65977019e-16 3.20679426e-01]]\n",
            "\n",
            "binarized y_test\n",
            " [[0 0 1 0 0 0 0]\n",
            " [0 0 1 0 0 0 0]\n",
            " [0 0 0 0 1 0 0]\n",
            " [0 0 1 0 0 0 0]\n",
            " [0 0 1 0 0 0 0]\n",
            " [0 0 0 0 0 0 1]\n",
            " [0 1 0 0 0 0 0]]\n"
          ]
        }
      ]
    },
    {
      "cell_type": "code",
      "source": [
        "# convert predictions and labels into integers representing each fish class.\n",
        "y_pred = np.argmax(raw_pred, axis=1)\n",
        "y_true = np.argmax(y_test_bin, axis=1)\n",
        " \n",
        "print('integer predictions', y_pred)\n",
        "print('integer true labels', y_true)"
      ],
      "metadata": {
        "colab": {
          "base_uri": "https://localhost:8080/"
        },
        "id": "9i3SItC_oPyK",
        "outputId": "2dbe84fc-5856-4029-c6bd-6fa18fc983bc"
      },
      "execution_count": null,
      "outputs": [
        {
          "output_type": "stream",
          "name": "stdout",
          "text": [
            "integer predictions [2 2 4 2 2 6 1 4 5 4 6 2 2 3 5 5 3 2 5 6 5 2 3 1 0 4 2 4 0 2 5 1 4 5 1 5 5\n",
            " 6 1 5 0 5 2 5 4 2 6 2 2 0 4 3 2 5 0 4 3 6 2 5 2 1 4 1 3 5 2 2 4 5 2 2 2 2\n",
            " 4 5 4 2 5 6 5 2 1 6 2 0 3 6 2 5 1 5 3 2 2 5 4 6 1 4 3 4 2 2 4 4 1 3 5 2 2\n",
            " 4 6 1 3 5 3 2 4 3 5 5 4 6 2 5 0 5 2 5 4 2 0 5 5 1 5 2 4 4 4 5 6 5 4 5 5 0\n",
            " 2 3 6 2 2 5 5 1 6 5 1 2 5 4 5 0 4 4 0 5 3 2 1 2 4 2 1 6 2 6 6 1 4 2 5 5 4\n",
            " 0 1 4 3 0 5 5 1 2 5 5 2 4 4 4 4 6 0 4 4 5 5 6 1 5 6 0 2 6 4 1 5 4 4 4 4 0\n",
            " 1 5 6]\n",
            "integer true labels [2 2 4 2 2 6 1 4 5 4 6 1 2 3 5 5 3 2 5 6 5 2 3 1 0 4 2 4 0 2 5 1 4 5 2 5 5\n",
            " 1 1 5 0 5 1 5 4 2 6 2 2 0 4 3 2 5 0 4 3 6 2 5 2 1 4 2 3 5 2 2 4 5 2 2 2 2\n",
            " 4 3 4 2 5 6 5 2 1 6 2 0 3 1 2 3 1 5 3 2 2 5 4 6 2 4 3 4 2 2 4 4 1 3 5 2 2\n",
            " 4 6 1 3 5 3 2 4 3 5 5 4 6 2 5 0 5 2 5 4 2 0 5 5 6 5 2 4 4 4 5 6 5 6 5 5 0\n",
            " 2 3 6 2 2 5 5 1 6 1 1 2 5 4 5 0 4 4 0 5 3 2 1 2 4 2 1 6 2 6 4 1 4 2 5 5 4\n",
            " 0 1 4 3 0 5 5 1 2 5 5 2 4 4 1 4 6 0 6 4 5 5 6 1 5 6 0 2 6 4 1 5 4 4 4 4 0\n",
            " 1 5 6]\n"
          ]
        }
      ]
    },
    {
      "cell_type": "code",
      "source": [
        "# print classification report and confusion matrix\n",
        " \n",
        "print(classification_report(y_true, y_pred))\n",
        "ConfusionMatrixDisplay.from_predictions(y_true, y_pred,\n",
        "                                        display_labels=classes,\n",
        "                                        xticks_rotation=45);"
      ],
      "metadata": {
        "colab": {
          "base_uri": "https://localhost:8080/",
          "height": 564
        },
        "id": "LKtg39T2oVue",
        "outputId": "2faf12ce-374e-48a6-fa58-2340fbd4eaf1"
      },
      "execution_count": null,
      "outputs": [
        {
          "output_type": "stream",
          "name": "stdout",
          "text": [
            "              precision    recall  f1-score   support\n",
            "\n",
            "           0       1.00      1.00      1.00        16\n",
            "           1       0.83      0.76      0.79        25\n",
            "           2       0.96      0.94      0.95        51\n",
            "           3       1.00      0.89      0.94        18\n",
            "           4       0.93      0.98      0.95        42\n",
            "           5       0.94      1.00      0.97        50\n",
            "           6       0.87      0.87      0.87        23\n",
            "\n",
            "    accuracy                           0.93       225\n",
            "   macro avg       0.93      0.92      0.93       225\n",
            "weighted avg       0.93      0.93      0.93       225\n",
            "\n"
          ]
        },
        {
          "output_type": "display_data",
          "data": {
            "text/plain": [
              "<Figure size 432x288 with 2 Axes>"
            ],
            "image/png": "[encoded data removed]"
          },
          "metadata": {
            "needs_background": "light"
          }
        }
      ]
    }
  ]
}